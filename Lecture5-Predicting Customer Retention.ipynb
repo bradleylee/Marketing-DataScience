{
 "cells": [
  {
   "cell_type": "code",
   "execution_count": 1,
   "metadata": {},
   "outputs": [
    {
     "name": "stdout",
     "output_type": "stream",
     "text": [
      "  pick income moves    age education employment  usage nonpub reachout card\n",
      "0  OCC   <7.5     0  35-44        HS          F      9    YES       NO   NO\n",
      "1  ATT  45-75     2  25-34        HS          F      2    YES       NO   NO\n",
      "2  OCC    NaN     0    NaN       NaN        NaN      6     NO       NO  YES\n",
      "3  OCC    NaN     2    65+       <HS          R      7     NO       NO   NO\n",
      "4  OCC    NaN     0    65+        HS          H      0     NO       NO   NO\n"
     ]
    }
   ],
   "source": [
    "# Predicting Customer Retention (Python)\n",
    "# prepare for Python version 3x features and functions\n",
    "from __future__ import division, print_function\n",
    "\n",
    "# import packages for text processing and machine learning\n",
    "import pandas as pd  # DataFrame structure and operations\n",
    "import numpy as np  # arrays and numerical processing\n",
    "import matplotlib.pyplot as plt  # 2D plotting\n",
    "import statsmodels.api as sm  # logistic regression\n",
    "import statsmodels.formula.api as smf  # R-like model specification\n",
    "import patsy  # translate model specification into design matrices\n",
    "from sklearn import svm  # support vector machines\n",
    "from sklearn.ensemble import RandomForestClassifier  # random forests\n",
    "from sklearn.naive_bayes import GaussianNB  # naive Bayes\n",
    "\n",
    "# import user-defined module\n",
    "import evaluate_classifier as eval\n",
    "\n",
    "# read in comma-delimited text file and create data frame\n",
    "# there are blank character fields for missing data\n",
    "# read them as character fields initially\n",
    "att = pd.read_csv(\"att.csv\")\n",
    "print(att.head())"
   ]
  },
  {
   "cell_type": "code",
   "execution_count": 2,
   "metadata": {},
   "outputs": [
    {
     "name": "stdout",
     "output_type": "stream",
     "text": [
      "   pick  usage  reachout  card\n",
      "0     1      9       0.0   0.0\n",
      "1     0      2       0.0   0.0\n",
      "2     1      6       0.0   1.0\n",
      "3     1      7       0.0   0.0\n",
      "4     1      0       0.0   0.0\n"
     ]
    }
   ],
   "source": [
    "# select variables of interest for modeling\n",
    "attprelim = pd.DataFrame(att, columns = ['pick','usage','reachout','card'])\n",
    "\n",
    "# use dictionary objects for mapping to 0/1 binary codes\n",
    "pick_to_binary = {'ATT' : 0, 'OCC' : 1}\n",
    "attprelim['pick'] = attprelim['pick'].map(pick_to_binary)\n",
    "yes_to_binary = {'NO' : 0, 'YES' : 1}\n",
    "attprelim['reachout'] = attprelim['reachout'].map(yes_to_binary)\n",
    "attprelim['card'] = attprelim['card'].map(yes_to_binary)\n",
    "\n",
    "# work with complete cases only\n",
    "attwork = attprelim.dropna()\n",
    "print(attwork.head())"
   ]
  },
  {
   "cell_type": "code",
   "execution_count": 3,
   "metadata": {},
   "outputs": [
    {
     "name": "stdout",
     "output_type": "stream",
     "text": [
      "Optimization terminated successfully.\n",
      "         Current function value: 0.666164\n",
      "         Iterations 5\n",
      "                           Logit Regression Results                           \n",
      "==============================================================================\n",
      "Dep. Variable:                   pick   No. Observations:                  981\n",
      "Model:                          Logit   Df Residuals:                      977\n",
      "Method:                           MLE   Df Model:                            3\n",
      "Date:                Sun, 17 Feb 2019   Pseudo R-squ.:                 0.03855\n",
      "Time:                        13:33:27   Log-Likelihood:                -653.51\n",
      "converged:                       True   LL-Null:                       -679.71\n",
      "                                        LLR p-value:                 2.459e-11\n",
      "==============================================================================\n",
      "                 coef    std err          z      P>|z|      [0.025      0.975]\n",
      "------------------------------------------------------------------------------\n",
      "Intercept      0.3383      0.087      3.884      0.000       0.168       0.509\n",
      "usage         -0.0131      0.003     -3.890      0.000      -0.020      -0.006\n",
      "reachout      -0.8695      0.324     -2.686      0.007      -1.504      -0.235\n",
      "card          -0.4756      0.149     -3.184      0.001      -0.768      -0.183\n",
      "==============================================================================\n"
     ]
    }
   ],
   "source": [
    "# specify form of predictive model\n",
    "attmodel = 'pick ~ usage + reachout + card'\n",
    "# convert R-like formula into design matrix needed for statsmodels        \n",
    "y,x = patsy.dmatrices(attmodel,attwork, return_type = 'dataframe')    \n",
    "\n",
    "# --------------------------------------\n",
    "# Logistic regression method\n",
    "# --------------------------------------\n",
    "my_logit_model = sm.Logit(y,x)\n",
    "# fit the model to the full data set\n",
    "my_logit_model_fit = my_logit_model.fit()\n",
    "print(my_logit_model_fit.summary())"
   ]
  },
  {
   "cell_type": "code",
   "execution_count": 6,
   "metadata": {},
   "outputs": [
    {
     "name": "stdout",
     "output_type": "stream",
     "text": [
      "\n",
      " Logistic Regression Performance\n",
      " Percentage of Choices Correctly Classified: 58.099999999999994 \n",
      "\n"
     ]
    },
    {
     "name": "stderr",
     "output_type": "stream",
     "text": [
      "C:\\Users\\bradl\\AppData\\Roaming\\Python\\Python36\\site-packages\\ipykernel_launcher.py:2: SettingWithCopyWarning: \n",
      "A value is trying to be set on a copy of a slice from a DataFrame.\n",
      "Try using .loc[row_indexer,col_indexer] = value instead\n",
      "\n",
      "See the caveats in the documentation: http://pandas.pydata.org/pandas-docs/stable/indexing.html#indexing-view-versus-copy\n",
      "  \n",
      "C:\\Users\\bradl\\AppData\\Roaming\\Python\\Python36\\site-packages\\ipykernel_launcher.py:9: SettingWithCopyWarning: \n",
      "A value is trying to be set on a copy of a slice from a DataFrame.\n",
      "Try using .loc[row_indexer,col_indexer] = value instead\n",
      "\n",
      "See the caveats in the documentation: http://pandas.pydata.org/pandas-docs/stable/indexing.html#indexing-view-versus-copy\n",
      "  if __name__ == '__main__':\n"
     ]
    }
   ],
   "source": [
    "# predicted probability of switching to OCC\n",
    "attwork['pred_logit_prob'] = my_logit_model_fit.predict(linear = False)\n",
    "# map from probability to ATT (0) or OCC (1)\n",
    "def prob_to_pred(x):\n",
    "    if(x > 0.5):\n",
    "        return(1)\n",
    "    else:\n",
    "        return(0)\n",
    "attwork['pred_logit'] =\\\n",
    "    attwork['pred_logit_prob'].apply(lambda d: prob_to_pred(d))\n",
    "print('\\n Logistic Regression Performance\\n',\\\n",
    "    'Percentage of Choices Correctly Classified:',\\\n",
    "    100 * round(eval.evaluate_classifier(attwork['pred_logit'],\\\n",
    "    attwork['pick'])[4], 3),'\\n')"
   ]
  },
  {
   "cell_type": "code",
   "execution_count": 7,
   "metadata": {},
   "outputs": [
    {
     "name": "stdout",
     "output_type": "stream",
     "text": [
      "\n",
      " Support Vector Machine Performance\n",
      " Percentage of Choices Correctly Classified: 62.8 \n",
      "\n"
     ]
    },
    {
     "name": "stderr",
     "output_type": "stream",
     "text": [
      "C:\\Users\\bradl\\AppData\\Roaming\\Python\\Python36\\site-packages\\ipykernel_launcher.py:6: SettingWithCopyWarning: \n",
      "A value is trying to be set on a copy of a slice from a DataFrame.\n",
      "Try using .loc[row_indexer,col_indexer] = value instead\n",
      "\n",
      "See the caveats in the documentation: http://pandas.pydata.org/pandas-docs/stable/indexing.html#indexing-view-versus-copy\n",
      "  \n"
     ]
    }
   ],
   "source": [
    "# --------------------------------------\n",
    "# Support vector machines\n",
    "# --------------------------------------\n",
    "my_svm = svm.SVC()  \n",
    "my_svm_fit = my_svm.fit(x, np.ravel(y))\n",
    "attwork['pred_svm_binary'] = my_svm_fit.predict(x)\n",
    "\n",
    "print('\\n Support Vector Machine Performance\\n',\\\n",
    "    'Percentage of Choices Correctly Classified:',\\\n",
    "    100 * round(eval.evaluate_classifier(attwork['pred_svm_binary'],\\\n",
    "    attwork['pick'])[4], 3),'\\n')"
   ]
  },
  {
   "cell_type": "code",
   "execution_count": 8,
   "metadata": {},
   "outputs": [
    {
     "name": "stdout",
     "output_type": "stream",
     "text": [
      "\n",
      " Random Forest Performance\n",
      " Percentage of Choices Correctly Classified: 66.60000000000001 \n",
      "\n"
     ]
    },
    {
     "name": "stderr",
     "output_type": "stream",
     "text": [
      "C:\\Users\\bradl\\AppData\\Roaming\\Python\\Python36\\site-packages\\ipykernel_launcher.py:7: SettingWithCopyWarning: \n",
      "A value is trying to be set on a copy of a slice from a DataFrame.\n",
      "Try using .loc[row_indexer,col_indexer] = value instead\n",
      "\n",
      "See the caveats in the documentation: http://pandas.pydata.org/pandas-docs/stable/indexing.html#indexing-view-versus-copy\n",
      "  import sys\n"
     ]
    }
   ],
   "source": [
    "# --------------------------------------\n",
    "# Random forests\n",
    "# --------------------------------------\n",
    "# for reproducibility set random number seed with random_state\n",
    "my_rf_model = RandomForestClassifier(n_estimators = 10, random_state = 9999)\n",
    "my_rf_model_fit = my_rf_model.fit(x, np.ravel(y))\n",
    "attwork['pred_rf_binary'] = my_rf_model_fit.predict(x)\n",
    "\n",
    "print('\\n Random Forest Performance\\n',\\\n",
    "    'Percentage of Choices Correctly Classified:',\\\n",
    "    100 * round(eval.evaluate_classifier(attwork['pred_rf_binary'],\\\n",
    "    attwork['pick'])[4], 3),'\\n')"
   ]
  },
  {
   "cell_type": "code",
   "execution_count": 9,
   "metadata": {},
   "outputs": [
    {
     "name": "stdout",
     "output_type": "stream",
     "text": [
      "\n",
      " Naive Bayes Performance\n",
      " Percentage of Choices Classified: 66.60000000000001 \n",
      "\n"
     ]
    },
    {
     "name": "stderr",
     "output_type": "stream",
     "text": [
      "C:\\Users\\bradl\\AppData\\Roaming\\Python\\Python36\\site-packages\\ipykernel_launcher.py:6: SettingWithCopyWarning: \n",
      "A value is trying to be set on a copy of a slice from a DataFrame.\n",
      "Try using .loc[row_indexer,col_indexer] = value instead\n",
      "\n",
      "See the caveats in the documentation: http://pandas.pydata.org/pandas-docs/stable/indexing.html#indexing-view-versus-copy\n",
      "  \n"
     ]
    }
   ],
   "source": [
    "# --------------------------------------\n",
    "# Naive Bayes\n",
    "# --------------------------------------\n",
    "my_nb_model = GaussianNB()\n",
    "my_nb_model_fit = my_nb_model.fit(x, np.ravel(y))\n",
    "attwork['pred_nb_binary'] = my_nb_model_fit.predict(x)\n",
    "\n",
    "print('\\n Naive Bayes Performance\\n',\\\n",
    "    'Percentage of Choices Classified:',\\\n",
    "    100 * round(eval.evaluate_classifier(attwork['pred_rf_binary'],\\\n",
    "    attwork['pick'])[4], 3),'\\n')\n",
    "\n",
    "# for training and test, utilize scikit-laearn cross-validation\n"
   ]
  },
  {
   "cell_type": "code",
   "execution_count": null,
   "metadata": {},
   "outputs": [],
   "source": []
  }
 ],
 "metadata": {
  "kernelspec": {
   "display_name": "Python 3",
   "language": "python",
   "name": "python3"
  },
  "language_info": {
   "codemirror_mode": {
    "name": "ipython",
    "version": 3
   },
   "file_extension": ".py",
   "mimetype": "text/x-python",
   "name": "python",
   "nbconvert_exporter": "python",
   "pygments_lexer": "ipython3",
   "version": "3.6.5"
  }
 },
 "nbformat": 4,
 "nbformat_minor": 2
}
