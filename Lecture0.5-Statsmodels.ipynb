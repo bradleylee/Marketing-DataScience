{
 "cells": [
  {
   "cell_type": "markdown",
   "metadata": {},
   "source": [
    "# Statsmodels\n",
    "statsmodels is a Python module that provides classes and functions for \n",
    "1. **the estimation of many different statistical models**, \n",
    "2. as well as for **conducting statistical tests**, and \n",
    "3. **statistical data exploration**. \n",
    "\n",
    "An extensive list of result statistics are available for each estimator. The results are tested against existing statistical packages to ensure that they are correct. The package is released under the open source Modified BSD (3-clause) license. The online documentation is hosted at www.statsmodels.org."
   ]
  },
  {
   "cell_type": "markdown",
   "metadata": {},
   "source": [
    "## Linear Regression Models\n",
    "### Ordinary Least Squares\n"
   ]
  },
  {
   "cell_type": "code",
   "execution_count": 3,
   "metadata": {},
   "outputs": [],
   "source": [
    "%matplotlib inline\n",
    "import numpy as np\n",
    "import statsmodels.api as sm\n",
    "import matplotlib.pyplot as plt\n",
    "from statsmodels.sandbox.regression.predstd import wls_prediction_std\n",
    "np.random.seed(20190314)\n",
    "# initialization "
   ]
  },
  {
   "cell_type": "code",
   "execution_count": 60,
   "metadata": {},
   "outputs": [],
   "source": [
    "# create artificial data\n",
    "nsample = 100\n",
    "x = np.linspace(0, 10, 100)\n",
    "X = np.column_stack((x, x**2))\n",
    "beta = np.array([1, 1, 10])\n",
    "e = np.random.normal(size=nsample) # noise or measurement error"
   ]
  },
  {
   "cell_type": "code",
   "execution_count": 61,
   "metadata": {},
   "outputs": [
    {
     "name": "stdout",
     "output_type": "stream",
     "text": [
      "[[1.         0.         0.        ]\n",
      " [1.         0.1010101  0.01020304]\n",
      " [1.         0.2020202  0.04081216]\n",
      " [1.         0.3030303  0.09182736]\n",
      " [1.         0.4040404  0.16324865]]\n"
     ]
    }
   ],
   "source": [
    "X = sm.add_constant(X) # add a column of 1 for intercept\n",
    "y = np.dot(X, beta) + e # response with noise\n",
    "print(X[:5,:])"
   ]
  },
  {
   "cell_type": "code",
   "execution_count": 33,
   "metadata": {
    "scrolled": true
   },
   "outputs": [
    {
     "name": "stdout",
     "output_type": "stream",
     "text": [
      "                            OLS Regression Results                            \n",
      "==============================================================================\n",
      "Dep. Variable:                      y   R-squared:                       1.000\n",
      "Model:                            OLS   Adj. R-squared:                  1.000\n",
      "Method:                 Least Squares   F-statistic:                 4.550e+06\n",
      "Date:                Thu, 14 Mar 2019   Prob (F-statistic):          7.00e-242\n",
      "Time:                        19:18:00   Log-Likelihood:                -141.20\n",
      "No. Observations:                 100   AIC:                             288.4\n",
      "Df Residuals:                      97   BIC:                             296.2\n",
      "Df Model:                           2                                         \n",
      "Covariance Type:            nonrobust                                         \n",
      "==============================================================================\n",
      "                 coef    std err          t      P>|t|      [0.025      0.975]\n",
      "------------------------------------------------------------------------------\n",
      "const          0.8332      0.297      2.810      0.006       0.245       1.422\n",
      "x1             1.0631      0.137      7.756      0.000       0.791       1.335\n",
      "x2             9.9951      0.013    753.627      0.000       9.969      10.021\n",
      "==============================================================================\n",
      "Omnibus:                        3.638   Durbin-Watson:                   2.130\n",
      "Prob(Omnibus):                  0.162   Jarque-Bera (JB):                3.031\n",
      "Skew:                          -0.405   Prob(JB):                        0.220\n",
      "Kurtosis:                       3.266   Cond. No.                         144.\n",
      "==============================================================================\n",
      "\n",
      "Warnings:\n",
      "[1] Standard Errors assume that the covariance matrix of the errors is correctly specified.\n"
     ]
    }
   ],
   "source": [
    "# fit by OLS \n",
    "model = sm.OLS(y, X) #create model\n",
    "results = model.fit() # fit model\n",
    "print(results.summary())"
   ]
  },
  {
   "cell_type": "code",
   "execution_count": 34,
   "metadata": {},
   "outputs": [
    {
     "name": "stdout",
     "output_type": "stream",
     "text": [
      "['HC0_se', 'HC1_se', 'HC2_se', 'HC3_se', '_HCCM', '__class__', '__delattr__', '__dict__', '__dir__', '__doc__', '__eq__', '__format__', '__ge__', '__getattribute__', '__gt__', '__hash__', '__init__', '__init_subclass__', '__le__', '__lt__', '__module__', '__ne__', '__new__', '__reduce__', '__reduce_ex__', '__repr__', '__setattr__', '__sizeof__', '__str__', '__subclasshook__', '__weakref__', '_cache', '_data_attr', '_get_robustcov_results', '_is_nested', '_wexog_singular_values', 'aic', 'bic', 'bse', 'centered_tss', 'compare_f_test', 'compare_lm_test', 'compare_lr_test', 'condition_number', 'conf_int', 'conf_int_el', 'cov_HC0', 'cov_HC1', 'cov_HC2', 'cov_HC3', 'cov_kwds', 'cov_params', 'cov_type', 'df_model', 'df_resid', 'diagn', 'eigenvals', 'el_test', 'ess', 'f_pvalue', 'f_test', 'fittedvalues', 'fvalue', 'get_influence', 'get_prediction', 'get_robustcov_results', 'initialize', 'k_constant', 'llf', 'load', 'model', 'mse_model', 'mse_resid', 'mse_total', 'nobs', 'normalized_cov_params', 'outlier_test', 'params', 'predict', 'pvalues', 'remove_data', 'resid', 'resid_pearson', 'rsquared', 'rsquared_adj', 'save', 'scale', 'ssr', 'summary', 'summary2', 't_test', 't_test_pairwise', 'tvalues', 'uncentered_tss', 'use_t', 'wald_test', 'wald_test_terms', 'wresid']\n"
     ]
    }
   ],
   "source": [
    "print(dir(results))"
   ]
  },
  {
   "cell_type": "code",
   "execution_count": 35,
   "metadata": {},
   "outputs": [
    {
     "name": "stdout",
     "output_type": "stream",
     "text": [
      "Parameters:  [0.83322162 1.06311304 9.99506969]\n",
      "R2:  0.9999893404142203\n",
      "Standard errors:  [0.29655626 0.13706098 0.01326263]\n",
      "Predicted values:  [8.33221617e-01 1.04258687e+00 1.45591233e+00 2.07319799e+00\n",
      " 2.89444385e+00 3.91964992e+00 5.14881618e+00 6.58194265e+00\n",
      " 8.21902932e+00 1.00600762e+01 1.21050833e+01 1.43540505e+01\n",
      " 1.68069780e+01 1.94638657e+01 2.23247136e+01 2.53895217e+01\n",
      " 2.86582899e+01 3.21310184e+01 3.58077071e+01 3.96883560e+01\n",
      " 4.37729651e+01 4.80615344e+01 5.25540639e+01 5.72505536e+01\n",
      " 6.21510035e+01 6.72554136e+01 7.25637839e+01 7.80761144e+01\n",
      " 8.37924051e+01 8.97126560e+01 9.58368671e+01 1.02165038e+02\n",
      " 1.08697170e+02 1.15433262e+02 1.22373314e+02 1.29517326e+02\n",
      " 1.36865298e+02 1.44417231e+02 1.52173123e+02 1.60132976e+02\n",
      " 1.68296789e+02 1.76664563e+02 1.85236296e+02 1.94011990e+02\n",
      " 2.02991644e+02 2.12175258e+02 2.21562832e+02 2.31154367e+02\n",
      " 2.40949862e+02 2.50949317e+02 2.61152732e+02 2.71560107e+02\n",
      " 2.82171443e+02 2.92986738e+02 3.04005994e+02 3.15229210e+02\n",
      " 3.26656387e+02 3.38287523e+02 3.50122620e+02 3.62161677e+02\n",
      " 3.74404694e+02 3.86851672e+02 3.99502609e+02 4.12357507e+02\n",
      " 4.25416365e+02 4.38679183e+02 4.52145961e+02 4.65816700e+02\n",
      " 4.79691399e+02 4.93770058e+02 5.08052677e+02 5.22539256e+02\n",
      " 5.37229796e+02 5.52124296e+02 5.67222756e+02 5.82525176e+02\n",
      " 5.98031556e+02 6.13741897e+02 6.29656198e+02 6.45774459e+02\n",
      " 6.62096680e+02 6.78622861e+02 6.95353003e+02 7.12287105e+02\n",
      " 7.29425167e+02 7.46767189e+02 7.64313171e+02 7.82063114e+02\n",
      " 8.00017017e+02 8.18174880e+02 8.36536703e+02 8.55102486e+02\n",
      " 8.73872230e+02 8.92845934e+02 9.12023598e+02 9.31405222e+02\n",
      " 9.50990806e+02 9.70780351e+02 9.90773856e+02 1.01097132e+03]\n"
     ]
    }
   ],
   "source": [
    "print('Parameters: ', results.params)  # Get specific statistics\n",
    "print('R2: ', results.rsquared)\n",
    "print('Standard errors: ', results.bse)\n",
    "print('Predicted values: ', results.predict())"
   ]
  },
  {
   "cell_type": "code",
   "execution_count": 45,
   "metadata": {},
   "outputs": [
    {
     "data": {
      "text/plain": [
       "<matplotlib.collections.PathCollection at 0x22e1a7a26a0>"
      ]
     },
     "execution_count": 45,
     "metadata": {},
     "output_type": "execute_result"
    },
    {
     "data": {
      "image/png": "[encoded data removed]",
      "text/plain": [
       "<Figure size 432x288 with 1 Axes>"
      ]
     },
     "metadata": {
      "needs_background": "light"
     },
     "output_type": "display_data"
    }
   ],
   "source": [
    "plt.scatter(x,results.predict()-y)"
   ]
  },
  {
   "cell_type": "markdown",
   "metadata": {},
   "source": [
    "# How to interpret the summary?\n",
    "### The left part of the first table provides **basic information** about the model fit:\n",
    "\n",
    "Element|Description\n",
    "-:|:-:\n",
    "Dep. Variable|Which variable is the response in the model \n",
    "Model|What model you are using in the fit \n",
    "Method|How the parameters of the model were calculated\n",
    "No. Observations|The number of observations (examples)\n",
    "DF Residuals|Degrees of freedom of the residuals. Number of observations - number of parameters\n",
    "DF Model|Number of parameters in the model (not including the constant term if present)\n"
   ]
  },
  {
   "cell_type": "markdown",
   "metadata": {},
   "source": [
    "### The right part of the first table shows the **goodness of fit**\n",
    "\n",
    "|Element|Description|\n",
    "|:-|:----|\n",
    "|R-squared |\tThe coefficient of determination. A statistical measure of how well the regression line approximates the real data points|\n",
    "|Adj. R-squared| \tThe above value adjusted based on the number of observations and the degrees-of-freedom of the residuals|\n",
    "|F-statistic |\tA measure how significant the fit is. The mean squared error of the model divided by the mean squared error of the residuals|\n",
    "|Prob (F-statistic) |\tThe probability that you would get the above statistic, given the null hypothesis that they are unrelated|\n",
    "|Log-likelihood |\tThe log of the likelihood function.|\n",
    "|AIC \t|The Akaike Information Criterion. Adjusts the log-likelihood based on the number of observations and the complexity of the model.|\n",
    "|BIC \t|The Bayesian Information Criterion. Similar to the AIC, but has a higher penalty for models with more parameters.|"
   ]
  },
  {
   "cell_type": "markdown",
   "metadata": {},
   "source": [
    "### The second table reports for each of the **coefficients**\n",
    "\n",
    "|Element|Description|\n",
    "|:-|:----|\n",
    "|coef| \tThe estimated value of the coefficient|\n",
    "|std err| \tThe basic standard error of the estimate of the coefficient. More sophisticated errors are also available.|\n",
    "|t| \tThe t-statistic value. This is a measure of how statistically significant the coefficient is.|\n",
    "|P > \\|t\\|| \tP-value that the null-hypothesis that the coefficient = 0 is true. If it is less than the confidence level, often 0.05, it indicates that there is a statistically significant relationship between the term and the response.|\n",
    "|\\[95.0% Conf. Interval\\]|The lower and upper values of the 95% confidence interval|\n",
    "\n",
    " "
   ]
  },
  {
   "cell_type": "markdown",
   "metadata": {},
   "source": [
    "### Finally, there are several statistical tests to assess the **distribution of the residuals**\n",
    "\n",
    "|Element| \tDescription|\n",
    "|:-|:----|\n",
    "|Skewness |\tA measure of the symmetry of the data about the mean. Normally-distributed errors should be symmetrically distributed about the mean (equal amounts above and below the line).|\n",
    "|Kurtosis \t|A measure of the shape of the distribution. Compares the amount of data close to the mean with those far away from the mean (in the tails).|\n",
    "|Omnibus \t|D'Angostino's test. It provides a combined statistical test for the presence of skewness and kurtosis.|\n",
    "|Prob(Omnibus)| \tThe above statistic turned into a probability|\n",
    "|Jarque-Bera |\tA different test of the skewness and kurtosis|\n",
    "|Prob (JB) |\tThe above statistic turned into a probability|\n",
    "|Durbin-Watson| \tA test for the presence of autocorrelation (that the errors are not independent.) Often important in time-series analysis|\n",
    "|Cond. No| \tA test for multicollinearity (if in a fit with multiple parameters, the parameters are related with each other).|"
   ]
  },
  {
   "cell_type": "markdown",
   "metadata": {},
   "source": [
    "## OLS non-linear curve but linear in parameters"
   ]
  },
  {
   "cell_type": "code",
   "execution_count": 49,
   "metadata": {},
   "outputs": [],
   "source": [
    "nsample = 50\n",
    "sig = 0.5\n",
    "x = np.linspace(0, 20, nsample)\n",
    "X = np.column_stack((x, np.sin(x), (x-5)**2, np.ones(nsample)))\n",
    "beta = [0.5, 0.5, -0.02, 5.]\n",
    "\n",
    "y_true = np.dot(X, beta)\n",
    "y = y_true + sig * np.random.normal(size=nsample) #generate artificial data"
   ]
  },
  {
   "cell_type": "code",
   "execution_count": 50,
   "metadata": {},
   "outputs": [
    {
     "name": "stdout",
     "output_type": "stream",
     "text": [
      "                            OLS Regression Results                            \n",
      "==============================================================================\n",
      "Dep. Variable:                      y   R-squared:                       0.953\n",
      "Model:                            OLS   Adj. R-squared:                  0.950\n",
      "Method:                 Least Squares   F-statistic:                     309.8\n",
      "Date:                Thu, 14 Mar 2019   Prob (F-statistic):           1.67e-30\n",
      "Time:                        19:29:43   Log-Likelihood:                -28.092\n",
      "No. Observations:                  50   AIC:                             64.18\n",
      "Df Residuals:                      46   BIC:                             71.83\n",
      "Df Model:                           3                                         \n",
      "Covariance Type:            nonrobust                                         \n",
      "==============================================================================\n",
      "                 coef    std err          t      P>|t|      [0.025      0.975]\n",
      "------------------------------------------------------------------------------\n",
      "x1             0.5449      0.023     23.430      0.000       0.498       0.592\n",
      "x2             0.5012      0.091      5.482      0.000       0.317       0.685\n",
      "x3            -0.0241      0.002    -11.808      0.000      -0.028      -0.020\n",
      "const          4.7484      0.151     31.486      0.000       4.445       5.052\n",
      "==============================================================================\n",
      "Omnibus:                        0.424   Durbin-Watson:                   2.323\n",
      "Prob(Omnibus):                  0.809   Jarque-Bera (JB):                0.585\n",
      "Skew:                          -0.142   Prob(JB):                        0.746\n",
      "Kurtosis:                       2.552   Cond. No.                         221.\n",
      "==============================================================================\n",
      "\n",
      "Warnings:\n",
      "[1] Standard Errors assume that the covariance matrix of the errors is correctly specified.\n"
     ]
    }
   ],
   "source": [
    "res = sm.OLS(y, X).fit()\n",
    "print(res.summary())"
   ]
  },
  {
   "cell_type": "code",
   "execution_count": 51,
   "metadata": {},
   "outputs": [
    {
     "data": {
      "image/png": "[encoded data removed]",
      "text/plain": [
       "<Figure size 576x432 with 1 Axes>"
      ]
     },
     "metadata": {
      "needs_background": "light"
     },
     "output_type": "display_data"
    }
   ],
   "source": [
    "# Draw a plot to compare the true relationship to OLS predictions. \n",
    "# Confidence intervals around the predictions are built using the wls_prediction_std command.\n",
    "prstd, iv_l, iv_u = wls_prediction_std(res)\n",
    "\n",
    "fig, ax = plt.subplots(figsize=(8,6))\n",
    "ax.plot(x, y, 'o', label=\"data\")\n",
    "ax.plot(x, y_true, 'b-', label=\"True\")\n",
    "ax.plot(x, res.fittedvalues, 'r--.', label=\"OLS\")\n",
    "ax.plot(x, iv_u, 'r--')\n",
    "ax.plot(x, iv_l, 'r--')\n",
    "ax.legend(loc='best');"
   ]
  },
  {
   "cell_type": "markdown",
   "metadata": {},
   "source": [
    "## OLS with dummy variables\n",
    "We generate some artificial data. There are 3 groups which will be modelled using dummy variables. Group 0 is the omitted/benchmark category."
   ]
  },
  {
   "cell_type": "code",
   "execution_count": 62,
   "metadata": {},
   "outputs": [],
   "source": [
    "nsample = 50\n",
    "groups = np.zeros(nsample, int)\n",
    "groups[20:40] = 1\n",
    "groups[40:] = 2\n",
    "#dummy = (groups[:,None] == np.unique(groups)).astype(float)\n",
    "\n",
    "dummy = sm.categorical(groups, drop=True)\n",
    "x = np.linspace(0, 20, nsample)\n",
    "# drop reference category\n",
    "X = np.column_stack((x, dummy[:,1:]))\n",
    "X = sm.add_constant(X, prepend=False)\n",
    "\n",
    "beta = [1., 3, -3, 10]\n",
    "y_true = np.dot(X, beta)\n",
    "e = np.random.normal(size=nsample)\n",
    "y = y_true + e\n"
   ]
  },
  {
   "cell_type": "code",
   "execution_count": 63,
   "metadata": {},
   "outputs": [
    {
     "name": "stdout",
     "output_type": "stream",
     "text": [
      "[[ 0.          0.          0.          1.        ]\n",
      " [ 0.40816327  0.          0.          1.        ]\n",
      " [ 0.81632653  0.          0.          1.        ]\n",
      " [ 1.2244898   0.          0.          1.        ]\n",
      " [ 1.63265306  0.          0.          1.        ]\n",
      " [ 2.04081633  0.          0.          1.        ]\n",
      " [ 2.44897959  0.          0.          1.        ]\n",
      " [ 2.85714286  0.          0.          1.        ]\n",
      " [ 3.26530612  0.          0.          1.        ]\n",
      " [ 3.67346939  0.          0.          1.        ]\n",
      " [ 4.08163265  0.          0.          1.        ]\n",
      " [ 4.48979592  0.          0.          1.        ]\n",
      " [ 4.89795918  0.          0.          1.        ]\n",
      " [ 5.30612245  0.          0.          1.        ]\n",
      " [ 5.71428571  0.          0.          1.        ]\n",
      " [ 6.12244898  0.          0.          1.        ]\n",
      " [ 6.53061224  0.          0.          1.        ]\n",
      " [ 6.93877551  0.          0.          1.        ]\n",
      " [ 7.34693878  0.          0.          1.        ]\n",
      " [ 7.75510204  0.          0.          1.        ]\n",
      " [ 8.16326531  1.          0.          1.        ]\n",
      " [ 8.57142857  1.          0.          1.        ]\n",
      " [ 8.97959184  1.          0.          1.        ]\n",
      " [ 9.3877551   1.          0.          1.        ]\n",
      " [ 9.79591837  1.          0.          1.        ]\n",
      " [10.20408163  1.          0.          1.        ]\n",
      " [10.6122449   1.          0.          1.        ]\n",
      " [11.02040816  1.          0.          1.        ]\n",
      " [11.42857143  1.          0.          1.        ]\n",
      " [11.83673469  1.          0.          1.        ]\n",
      " [12.24489796  1.          0.          1.        ]\n",
      " [12.65306122  1.          0.          1.        ]\n",
      " [13.06122449  1.          0.          1.        ]\n",
      " [13.46938776  1.          0.          1.        ]\n",
      " [13.87755102  1.          0.          1.        ]\n",
      " [14.28571429  1.          0.          1.        ]\n",
      " [14.69387755  1.          0.          1.        ]\n",
      " [15.10204082  1.          0.          1.        ]\n",
      " [15.51020408  1.          0.          1.        ]\n",
      " [15.91836735  1.          0.          1.        ]\n",
      " [16.32653061  0.          1.          1.        ]\n",
      " [16.73469388  0.          1.          1.        ]\n",
      " [17.14285714  0.          1.          1.        ]\n",
      " [17.55102041  0.          1.          1.        ]\n",
      " [17.95918367  0.          1.          1.        ]\n",
      " [18.36734694  0.          1.          1.        ]\n",
      " [18.7755102   0.          1.          1.        ]\n",
      " [19.18367347  0.          1.          1.        ]\n",
      " [19.59183673  0.          1.          1.        ]\n",
      " [20.          0.          1.          1.        ]]\n",
      "[ 9.20969764 11.12424052 11.03228026 11.54030991 11.72337849]\n",
      "[0 0 0 0 0 0 0 0 0 0 0 0 0 0 0 0 0 0 0 0 1 1 1 1 1 1 1 1 1 1 1 1 1 1 1 1 1\n",
      " 1 1 1 2 2 2 2 2 2 2 2 2 2]\n",
      "[[1. 0. 0.]\n",
      " [1. 0. 0.]\n",
      " [1. 0. 0.]\n",
      " [1. 0. 0.]\n",
      " [1. 0. 0.]]\n"
     ]
    }
   ],
   "source": [
    "# Inspect the data:\n",
    "print(X[:,:])\n",
    "print(y[:5])\n",
    "print(groups)\n",
    "print(dummy[:5,:])\n"
   ]
  },
  {
   "cell_type": "code",
   "execution_count": 56,
   "metadata": {},
   "outputs": [
    {
     "name": "stdout",
     "output_type": "stream",
     "text": [
      "                            OLS Regression Results                            \n",
      "==============================================================================\n",
      "Dep. Variable:                      y   R-squared:                       0.973\n",
      "Model:                            OLS   Adj. R-squared:                  0.971\n",
      "Method:                 Least Squares   F-statistic:                     545.2\n",
      "Date:                Thu, 14 Mar 2019   Prob (F-statistic):           6.11e-36\n",
      "Time:                        19:44:44   Log-Likelihood:                -70.051\n",
      "No. Observations:                  50   AIC:                             148.1\n",
      "Df Residuals:                      46   BIC:                             155.8\n",
      "Df Model:                           3                                         \n",
      "Covariance Type:            nonrobust                                         \n",
      "==============================================================================\n",
      "                 coef    std err          t      P>|t|      [0.025      0.975]\n",
      "------------------------------------------------------------------------------\n",
      "x1             1.0231      0.067     15.326      0.000       0.889       1.158\n",
      "x2             2.6251      0.634      4.141      0.000       1.349       3.901\n",
      "x3            -3.3827      1.033     -3.275      0.002      -5.462      -1.304\n",
      "const         10.0608      0.346     29.111      0.000       9.365      10.756\n",
      "==============================================================================\n",
      "Omnibus:                        0.672   Durbin-Watson:                   2.708\n",
      "Prob(Omnibus):                  0.715   Jarque-Bera (JB):                0.721\n",
      "Skew:                          -0.050   Prob(JB):                        0.697\n",
      "Kurtosis:                       2.420   Cond. No.                         96.3\n",
      "==============================================================================\n",
      "\n",
      "Warnings:\n",
      "[1] Standard Errors assume that the covariance matrix of the errors is correctly specified.\n"
     ]
    }
   ],
   "source": [
    "# fit model\n",
    "res2 = sm.OLS(y, X).fit()\n",
    "print(res2.summary())"
   ]
  },
  {
   "cell_type": "code",
   "execution_count": 57,
   "metadata": {},
   "outputs": [
    {
     "data": {
      "image/png": "[encoded data removed]",
      "text/plain": [
       "<Figure size 576x432 with 1 Axes>"
      ]
     },
     "metadata": {
      "needs_background": "light"
     },
     "output_type": "display_data"
    }
   ],
   "source": [
    "prstd, iv_l, iv_u = wls_prediction_std(res2)\n",
    "\n",
    "fig, ax = plt.subplots(figsize=(8,6))\n",
    "\n",
    "ax.plot(x, y, 'o', label=\"Data\")\n",
    "ax.plot(x, y_true, 'b-', label=\"True\")\n",
    "ax.plot(x, res2.fittedvalues, 'r--.', label=\"Predicted\")\n",
    "ax.plot(x, iv_u, 'r--')\n",
    "ax.plot(x, iv_l, 'r--')\n",
    "legend = ax.legend(loc=\"best\")"
   ]
  },
  {
   "cell_type": "markdown",
   "metadata": {},
   "source": [
    "## Regression diagnostics\n",
    "### Estimate a regression model"
   ]
  },
  {
   "cell_type": "code",
   "execution_count": 82,
   "metadata": {},
   "outputs": [
    {
     "name": "stdout",
     "output_type": "stream",
     "text": [
      "  neighborhood     crim    zn  indus  chas    nox  rooms   age     dis  rad  \\\n",
      "0       Nahant  0.00632  18.0   2.31     0  0.538  6.575  65.2  4.0900    1   \n",
      "1   Swampscott  0.02731   0.0   7.07     0  0.469  6.421  78.9  4.9671    2   \n",
      "2   Swanpscott  0.02729   0.0   7.07     0  0.469  7.185  61.1  4.9671    2   \n",
      "3   Marblehead  0.03237   0.0   2.18     0  0.458  6.998  45.8  6.0622    3   \n",
      "4   Marblehead  0.06905   0.0   2.18     0  0.458  7.147  54.2  6.0622    3   \n",
      "\n",
      "   tax  ptratio  lstat    mv  \n",
      "0  296     15.3   4.98  24.0  \n",
      "1  242     17.8   9.14  21.6  \n",
      "2  242     17.8   4.03  34.7  \n",
      "3  222     18.7   2.94  33.4  \n",
      "4  222     18.7   5.33  36.2  \n",
      "                            OLS Regression Results                            \n",
      "==============================================================================\n",
      "Dep. Variable:                     mv   R-squared:                       0.565\n",
      "Model:                            OLS   Adj. R-squared:                  0.562\n",
      "Method:                 Least Squares   F-statistic:                     217.2\n",
      "Date:                Thu, 14 Mar 2019   Prob (F-statistic):           2.63e-90\n",
      "Time:                        20:13:00   Log-Likelihood:                -1628.9\n",
      "No. Observations:                 506   AIC:                             3266.\n",
      "Df Residuals:                     502   BIC:                             3283.\n",
      "Df Model:                           3                                         \n",
      "Covariance Type:            nonrobust                                         \n",
      "==============================================================================\n",
      "                 coef    std err          t      P>|t|      [0.025      0.975]\n",
      "------------------------------------------------------------------------------\n",
      "Intercept     -4.1381      4.210     -0.983      0.326     -12.410       4.134\n",
      "ptratio       -1.2037      0.136     -8.872      0.000      -1.470      -0.937\n",
      "rooms          7.6100      0.415     18.318      0.000       6.794       8.426\n",
      "dis            0.2783      0.133      2.089      0.037       0.017       0.540\n",
      "==============================================================================\n",
      "Omnibus:                      207.056   Durbin-Watson:                   0.741\n",
      "Prob(Omnibus):                  0.000   Jarque-Bera (JB):             1696.428\n",
      "Skew:                           1.567   Prob(JB):                         0.00\n",
      "Kurtosis:                      11.405   Cond. No.                         313.\n",
      "==============================================================================\n",
      "\n",
      "Warnings:\n",
      "[1] Standard Errors assume that the covariance matrix of the errors is correctly specified.\n"
     ]
    }
   ],
   "source": [
    "%matplotlib inline\n",
    "from statsmodels.compat import lzip\n",
    "import statsmodels\n",
    "import numpy as np\n",
    "import pandas as pd\n",
    "import statsmodels.formula.api as smf\n",
    "import statsmodels.stats.api as sms\n",
    "import matplotlib.pyplot as plt\n",
    "\n",
    "# Load data\n",
    "#url = 'http://vincentarelbundock.github.io/Rdatasets/csv/HistData/Guerry.csv'\n",
    "#dat = pd.read_csv(url)\n",
    "dat = pd.read_csv(\"boston.csv\")\n",
    "# Fit regression model (using the natural log of one of the regressors)\n",
    "results = smf.ols('mv ~ ptratio + rooms + dis', data=dat).fit()\n",
    "\n",
    "# Inspect the results\n",
    "print(dat.head())\n",
    "print(results.summary())"
   ]
  },
  {
   "cell_type": "markdown",
   "metadata": {},
   "source": [
    "### Normality of the residuals"
   ]
  },
  {
   "cell_type": "code",
   "execution_count": 83,
   "metadata": {},
   "outputs": [
    {
     "data": {
      "text/plain": [
       "[('Jarque-Bera', 1696.4278708197417),\n",
       " ('Chi^2 two-tail prob.', 0.0),\n",
       " ('Skew', 1.5665205918344103),\n",
       " ('Kurtosis', 11.405179055594276)]"
      ]
     },
     "execution_count": 83,
     "metadata": {},
     "output_type": "execute_result"
    }
   ],
   "source": [
    "# JB test\n",
    "name = ['Jarque-Bera', 'Chi^2 two-tail prob.', 'Skew', 'Kurtosis']\n",
    "test = sms.jarque_bera(results.resid)\n",
    "lzip(name, test)\n"
   ]
  },
  {
   "cell_type": "code",
   "execution_count": 84,
   "metadata": {},
   "outputs": [
    {
     "data": {
      "text/plain": [
       "[('Chi^2', 207.05576342085843),\n",
       " ('Two-tail probability', 1.092476867994284e-45)]"
      ]
     },
     "execution_count": 84,
     "metadata": {},
     "output_type": "execute_result"
    }
   ],
   "source": [
    "# omni test\n",
    "name = ['Chi^2', 'Two-tail probability']\n",
    "test = sms.omni_normtest(results.resid)\n",
    "lzip(name, test)"
   ]
  },
  {
   "cell_type": "markdown",
   "metadata": {},
   "source": [
    "## Heteroskedasticity tests\n",
    "### Breush-Pagan test:"
   ]
  },
  {
   "cell_type": "code",
   "execution_count": 85,
   "metadata": {},
   "outputs": [
    {
     "data": {
      "text/plain": [
       "[('Lagrange multiplier statistic', 23.086783418826176),\n",
       " ('p-value', 3.873545560187393e-05),\n",
       " ('f-value', 7.9997570842369905),\n",
       " ('f p-value', 3.2279527981558966e-05)]"
      ]
     },
     "execution_count": 85,
     "metadata": {},
     "output_type": "execute_result"
    }
   ],
   "source": [
    "name = ['Lagrange multiplier statistic', 'p-value', \n",
    "        'f-value', 'f p-value']\n",
    "test = sms.het_breuschpagan(results.resid,results.model.exog)\n",
    "lzip(name, test)"
   ]
  },
  {
   "cell_type": "markdown",
   "metadata": {},
   "source": [
    "### Goldfeld-Quandt test"
   ]
  },
  {
   "cell_type": "code",
   "execution_count": 86,
   "metadata": {},
   "outputs": [
    {
     "data": {
      "text/plain": [
       "[('F statistic', 3.7973651706661045), ('p-value', 1.4644105101180242e-24)]"
      ]
     },
     "execution_count": 86,
     "metadata": {},
     "output_type": "execute_result"
    }
   ],
   "source": [
    "name = ['F statistic', 'p-value']\n",
    "test = sms.het_goldfeldquandt(results.resid, results.model.exog)\n",
    "lzip(name, test)"
   ]
  },
  {
   "cell_type": "code",
   "execution_count": 87,
   "metadata": {},
   "outputs": [
    {
     "name": "stdout",
     "output_type": "stream",
     "text": [
      "Help on HetGoldfeldQuandt in module statsmodels.sandbox.stats.diagnostic object:\n",
      "\n",
      "class HetGoldfeldQuandt(builtins.object)\n",
      " |  test whether variance is the same in 2 subsamples\n",
      " |  \n",
      " |  Parameters\n",
      " |  ----------\n",
      " |  y : array_like\n",
      " |      endogenous variable\n",
      " |  x : array_like\n",
      " |      exogenous variable, regressors\n",
      " |  idx : integer\n",
      " |      column index of variable according to which observations are\n",
      " |      sorted for the split\n",
      " |  split : None or integer or float in intervall (0,1)\n",
      " |      index at which sample is split.\n",
      " |      If 0<split<1 then split is interpreted as fraction of the observations\n",
      " |      in the first sample\n",
      " |  drop : None, float or int\n",
      " |      If this is not None, then observation are dropped from the middle part\n",
      " |      of the sorted series. If 0<split<1 then split is interpreted as fraction\n",
      " |      of the number of observations to be dropped.\n",
      " |      Note: Currently, observations are dropped between split and\n",
      " |      split+drop, where split and drop are the indices (given by rounding if\n",
      " |      specified as fraction). The first sample is [0:split], the second\n",
      " |      sample is [split+drop:]\n",
      " |  alternative : string, 'increasing', 'decreasing' or 'two-sided'\n",
      " |      default is increasing. This specifies the alternative for the p-value\n",
      " |      calculation.\n",
      " |  \n",
      " |  Returns\n",
      " |  -------\n",
      " |  (fval, pval) or res\n",
      " |  fval : float\n",
      " |      value of the F-statistic\n",
      " |  pval : float\n",
      " |      p-value of the hypothesis that the variance in one subsample is larger\n",
      " |      than in the other subsample\n",
      " |  res : instance of result class\n",
      " |      The class instance is just a storage for the intermediate and final\n",
      " |      results that are calculated\n",
      " |  \n",
      " |  Notes\n",
      " |  -----\n",
      " |  The Null hypothesis is that the variance in the two sub-samples are the\n",
      " |  same. The alternative hypothesis, can be increasing, i.e. the variance in\n",
      " |  the second sample is larger than in the first, or decreasing or two-sided.\n",
      " |  \n",
      " |  Results are identical R, but the drop option is defined differently.\n",
      " |  (sorting by idx not tested yet)\n",
      " |  \n",
      " |  Methods defined here:\n",
      " |  \n",
      " |  __call__(self, y, x, idx=None, split=None, drop=None, alternative='increasing')\n",
      " |      Call self as a function.\n",
      " |  \n",
      " |  __str__(self)\n",
      " |      Return str(self).\n",
      " |  \n",
      " |  run(self, y, x, idx=None, split=None, drop=None, alternative='increasing', attach=True)\n",
      " |      see class docstring\n",
      " |  \n",
      " |  ----------------------------------------------------------------------\n",
      " |  Data descriptors defined here:\n",
      " |  \n",
      " |  __dict__\n",
      " |      dictionary for instance variables (if defined)\n",
      " |  \n",
      " |  __weakref__\n",
      " |      list of weak references to the object (if defined)\n",
      "\n"
     ]
    }
   ],
   "source": [
    "help(sms.het_goldfeldquandt)"
   ]
  },
  {
   "cell_type": "code",
   "execution_count": null,
   "metadata": {},
   "outputs": [],
   "source": []
  }
 ],
 "metadata": {
  "kernelspec": {
   "display_name": "Python 3",
   "language": "python",
   "name": "python3"
  },
  "language_info": {
   "codemirror_mode": {
    "name": "ipython",
    "version": 3
   },
   "file_extension": ".py",
   "mimetype": "text/x-python",
   "name": "python",
   "nbconvert_exporter": "python",
   "pygments_lexer": "ipython3",
   "version": "3.7.1"
  }
 },
 "nbformat": 4,
 "nbformat_minor": 2
}
