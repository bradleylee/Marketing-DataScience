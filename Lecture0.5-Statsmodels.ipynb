{
 "cells": [
  {
   "cell_type": "markdown",
   "metadata": {},
   "source": [
    "# Statsmodels\n",
    "statsmodels is a Python module that provides classes and functions for \n",
    "1. **the estimation of many different statistical models**, \n",
    "2. as well as for **conducting statistical tests**, and \n",
    "3. **statistical data exploration**. \n",
    "\n",
    "An extensive list of result statistics are available for each estimator. The results are tested against existing statistical packages to ensure that they are correct. The package is released under the open source Modified BSD (3-clause) license. The online documentation is hosted at www.statsmodels.org."
   ]
  },
  {
   "cell_type": "markdown",
   "metadata": {},
   "source": [
    "## Linear Regression Models\n",
    "### Ordinary Least Squares\n",
    "\n",
    "For univariate $y$ and multivariate $X$, if we want to find the relationship between each variate of $X$ and $y$ simultaneously, we need to fit a Model\n",
    "$$ y=X\\beta$$\n",
    "In fact, we cannot attribute all loads ($\\beta$s) to certain variables, so estimated residuals ($\\hat{\\epsilon}$s) exist. And all the $\\beta$s are estimated $\\beta$s(i.e. $\\hat{\\beta}$s), we can rewrite the model above as:\n",
    "$$ y=X\\hat{\\beta}+\\hat{\\epsilon}$$\n",
    "In order to find best estimated coefficients $\\hat{\\beta}$s, we need to optimize the sum square of residuals\n",
    "$$ \\min \\hat{\\epsilon}'\\hat{\\epsilon}$$\n",
    "The Lagrange function of this optimization is \n",
    "$$\\begin{align} \\mathcal{L}&=\\hat{\\epsilon}'\\hat{\\epsilon} \\\\\n",
    "&=(y-X\\hat{\\beta})'(y-X\\hat{\\beta})\\\\\n",
    "&=(y'-X'\\hat{\\beta}')(y-X\\hat{\\beta})\\\\\n",
    "&=y'y-2X'\\hat{\\beta}'y+X'\\hat{\\beta}'X\\hat{\\beta}\\\\\n",
    "\\end{align}$$\n",
    "Calculate the first order condition:\n",
    "$$ \\frac{\\partial\\mathcal{L}}{\\partial\\hat{\\beta}}=-2X'y+2X'X\\hat{\\beta}=0$$\n",
    "So \n",
    "$$\\hat{\\beta}=(X'X)^{-1}(X'y)$$\n",
    "Forcast $\\hat{y}$\n",
    "$$\\hat{y}=X\\hat{\\beta}$$\n",
    "Estimate residuals\n",
    "$$\\hat{\\epsilon} = y-\\hat{y}$$"
   ]
  },
  {
   "attachments": {},
   "cell_type": "markdown",
   "metadata": {},
   "source": [
    "### Classical assumptions of linear regression\n",
    "1. **Normality of the dependent variable**. Regression is robust to moderate violations of normality, provided there are no outliers. If the  dependent variable is seriously non-normal, an appropriate transformation is recommended.\n",
    "2. **Linearity of relationship between the dependent variable and each independent variable**. Special regression procedures (e.g., polynomial regression) can be used to model non-linear relationships.\n",
    "3. **Homoscedasticity (homogeneity of variance)**. This means the dependent variable scores have the same dispersion/variability around the regression line through them, meaning they have equal spread. Regression is robust to moderate violations of homoscedasticity. A transformation of the variables is often recommended to address serious heteroscedasticity.\n",
    "4. **Independence**. Each case should be independent of one another. This is a critical assumption for statistical tests to be accurate. If the data have a hierarchical structure (e.g., employees within work teams), multi-level regression techniques may be appropriate (see Tabachnick & Fidell, 2001).\n",
    "5. **Multicollinearity**.\n"
   ]
  },
  {
   "attachments": {},
   "cell_type": "markdown",
   "metadata": {},
   "source": [
    "### The assumptions of regression can be partially checked by \n",
    "+ examining the distribution of the dependent variable and bivariate scatterplots, or through \n",
    "+ examination of the residuals (the difference between observed and predicted dependent variable scores) after running an initial regression. \n"
   ]
  },
  {
   "cell_type": "code",
   "execution_count": 28,
   "metadata": {},
   "outputs": [],
   "source": [
    "%matplotlib inline\n",
    "import numpy as np\n",
    "import statsmodels.api as sm\n",
    "import matplotlib.pyplot as plt\n",
    "from statsmodels.sandbox.regression.predstd import wls_prediction_std\n",
    "np.random.seed(20190314)\n",
    "# initialization "
   ]
  },
  {
   "cell_type": "code",
   "execution_count": 29,
   "metadata": {},
   "outputs": [],
   "source": [
    "# create artificial data\n",
    "nsample = 100\n",
    "x = np.linspace(0, 10, nsample)\n",
    "X = np.column_stack((x, x**2))\n",
    "beta = np.array([1, 1, 10])\n",
    "e = np.random.normal(size=nsample) # noise or measurement error"
   ]
  },
  {
   "cell_type": "code",
   "execution_count": 30,
   "metadata": {},
   "outputs": [],
   "source": [
    "X = sm.add_constant(X) # add a column of 1 for intercept\n",
    "y = np.dot(X, beta) + e # response with noise"
   ]
  },
  {
   "cell_type": "code",
   "execution_count": 31,
   "metadata": {
    "scrolled": true
   },
   "outputs": [
    {
     "name": "stdout",
     "output_type": "stream",
     "text": [
      "                            OLS Regression Results                            \n",
      "==============================================================================\n",
      "Dep. Variable:                      y   R-squared:                       1.000\n",
      "Model:                            OLS   Adj. R-squared:                  1.000\n",
      "Method:                 Least Squares   F-statistic:                 4.453e+06\n",
      "Date:                Fri, 22 Mar 2019   Prob (F-statistic):          1.98e-241\n",
      "Time:                        11:07:42   Log-Likelihood:                -142.29\n",
      "No. Observations:                 100   AIC:                             290.6\n",
      "Df Residuals:                      97   BIC:                             298.4\n",
      "Df Model:                           2                                         \n",
      "Covariance Type:            nonrobust                                         \n",
      "==============================================================================\n",
      "                 coef    std err          t      P>|t|      [0.025      0.975]\n",
      "------------------------------------------------------------------------------\n",
      "const          1.3069      0.300      4.359      0.000       0.712       1.902\n",
      "x1             0.7934      0.139      5.726      0.000       0.518       1.068\n",
      "x2            10.0215      0.013    747.490      0.000       9.995      10.048\n",
      "==============================================================================\n",
      "Omnibus:                        0.444   Durbin-Watson:                   2.341\n",
      "Prob(Omnibus):                  0.801   Jarque-Bera (JB):                0.590\n",
      "Skew:                           0.130   Prob(JB):                        0.745\n",
      "Kurtosis:                       2.728   Cond. No.                         144.\n",
      "==============================================================================\n",
      "\n",
      "Warnings:\n",
      "[1] Standard Errors assume that the covariance matrix of the errors is correctly specified.\n"
     ]
    }
   ],
   "source": [
    "# fit by OLS \n",
    "model = sm.OLS(y, X) #create model\n",
    "results = model.fit() # fit model\n",
    "print(results.summary())"
   ]
  },
  {
   "cell_type": "code",
   "execution_count": 32,
   "metadata": {},
   "outputs": [
    {
     "name": "stdout",
     "output_type": "stream",
     "text": [
      "['HC0_se', 'HC1_se', 'HC2_se', 'HC3_se', '_HCCM', '__class__', '__delattr__', '__dict__', '__dir__', '__doc__', '__eq__', '__format__', '__ge__', '__getattribute__', '__gt__', '__hash__', '__init__', '__init_subclass__', '__le__', '__lt__', '__module__', '__ne__', '__new__', '__reduce__', '__reduce_ex__', '__repr__', '__setattr__', '__sizeof__', '__str__', '__subclasshook__', '__weakref__', '_cache', '_data_attr', '_get_robustcov_results', '_is_nested', '_wexog_singular_values', 'aic', 'bic', 'bse', 'centered_tss', 'compare_f_test', 'compare_lm_test', 'compare_lr_test', 'condition_number', 'conf_int', 'conf_int_el', 'cov_HC0', 'cov_HC1', 'cov_HC2', 'cov_HC3', 'cov_kwds', 'cov_params', 'cov_type', 'df_model', 'df_resid', 'diagn', 'eigenvals', 'el_test', 'ess', 'f_pvalue', 'f_test', 'fittedvalues', 'fvalue', 'get_influence', 'get_prediction', 'get_robustcov_results', 'initialize', 'k_constant', 'llf', 'load', 'model', 'mse_model', 'mse_resid', 'mse_total', 'nobs', 'normalized_cov_params', 'outlier_test', 'params', 'predict', 'pvalues', 'remove_data', 'resid', 'resid_pearson', 'rsquared', 'rsquared_adj', 'save', 'scale', 'ssr', 'summary', 'summary2', 't_test', 't_test_pairwise', 'tvalues', 'uncentered_tss', 'use_t', 'wald_test', 'wald_test_terms', 'wresid']\n"
     ]
    }
   ],
   "source": [
    "print(dir(results))"
   ]
  },
  {
   "cell_type": "code",
   "execution_count": 33,
   "metadata": {},
   "outputs": [
    {
     "name": "stdout",
     "output_type": "stream",
     "text": [
      "Parameters:  [ 1.30686578  0.79337684 10.02152193]\n",
      "R2:  0.9999891098074563\n",
      "Standard errors:  [0.29978201 0.13855185 0.01340689]\n",
      "Predicted values:  [   1.30686578    1.48925485    1.87614391    2.46753296    3.26342199\n",
      "    4.26381101    5.46870002    6.87808902    8.49197801   10.31036698\n",
      "   12.33325595   14.5606449    16.99253384   19.62892277   22.46981168\n",
      "   25.51520059   28.76508948   32.21947836   35.87836723   39.74175609\n",
      "   43.80964494   48.08203377   52.5589226    57.24031141   62.12620021\n",
      "   67.216589     72.51147777   78.01086654   83.71475529   89.62314403\n",
      "   95.73603276  102.05342148  108.57531019  115.30169888  122.23258756\n",
      "  129.36797624  136.7078649   144.25225354  152.00114218  159.9545308\n",
      "  168.11241942  176.47480802  185.04169661  193.81308518  202.78897375\n",
      "  211.9693623   221.35425085  230.94363938  240.7375279   250.7359164\n",
      "  260.9388049   271.34619338  281.95808186  292.77447032  303.79535877\n",
      "  315.0207472   326.45063563  338.08502404  349.92391244  361.96730084\n",
      "  374.21518921  386.66757758  399.32446594  412.18585428  425.25174261\n",
      "  438.52213093  451.99701924  465.67640754  479.56029582  493.6486841\n",
      "  507.94157236  522.43896061  537.14084885  552.04723707  567.15812529\n",
      "  582.47351349  597.99340168  613.71778986  629.64667803  645.78006619\n",
      "  662.11795433  678.66034247  695.40723059  712.3586187   729.51450679\n",
      "  746.87489488  764.43978295  782.20917102  800.18305907  818.36144711\n",
      "  836.74433514  855.33172315  874.12361116  893.11999915  912.32088713\n",
      "  931.7262751   951.33616306  971.150551    991.16943894 1011.39282686]\n"
     ]
    }
   ],
   "source": [
    "print('Parameters: ', results.params)  # Get specific statistics\n",
    "print('R2: ', results.rsquared)\n",
    "print('Standard errors: ', results.bse)\n",
    "print('Predicted values: ', results.predict())"
   ]
  },
  {
   "cell_type": "code",
   "execution_count": 34,
   "metadata": {},
   "outputs": [
    {
     "data": {
      "text/plain": [
       "(array([ 2.,  3.,  7., 11., 11., 24., 15., 14.,  4.,  9.]),\n",
       " array([-2.62560974, -2.1600319 , -1.69445407, -1.22887623, -0.76329839,\n",
       "        -0.29772056,  0.16785728,  0.63343511,  1.09901295,  1.56459078,\n",
       "         2.03016862]),\n",
       " <a list of 10 Patch objects>)"
      ]
     },
     "execution_count": 34,
     "metadata": {},
     "output_type": "execute_result"
    },
    {
     "data": {
      "image/png": "[encoded data removed]",
      "text/plain": [
       "<Figure size 432x288 with 1 Axes>"
      ]
     },
     "metadata": {
      "needs_background": "light"
     },
     "output_type": "display_data"
    }
   ],
   "source": [
    "plt.hist(results.predict()-y)"
   ]
  },
  {
   "cell_type": "markdown",
   "metadata": {},
   "source": [
    "# How to interpret the summary?\n",
    "### The left part of the first table provides **basic information** about the model fit:\n",
    "\n",
    "Element|Description\n",
    ":-|:-\n",
    "Dep. Variable|Which variable is the response in the model \n",
    "Model|What model you are using in the fit \n",
    "Method|How the parameters of the model were calculated\n",
    "No. Observations|The number of observations (examples)\n",
    "DF Residuals|Degrees of freedom of the residuals. Number of observations - number of parameters\n",
    "DF Model|Number of parameters in the model (not including the constant term if present)\n"
   ]
  },
  {
   "cell_type": "markdown",
   "metadata": {},
   "source": [
    "### The right part of the first table shows the **goodness of fit**\n",
    "\n",
    "|Element|Description|\n",
    "|:-|:----|\n",
    "|R-squared |\tThe coefficient of determination. A statistical measure of how well the regression line approximates the real data points|\n",
    "|Adj. R-squared| \tThe above value adjusted based on the number of observations and the degrees-of-freedom of the residuals|\n",
    "|F-statistic |\tA measure how significant the fit is. The mean squared error of the model divided by the mean squared error of the residuals|\n",
    "|Prob (F-statistic) |\tThe probability that you would get the above statistic, given the null hypothesis that they are unrelated|\n",
    "|Log-likelihood |\tThe log of the likelihood function.|\n",
    "|AIC \t|The Akaike Information Criterion. Adjusts the log-likelihood based on the number of observations and the complexity of the model.|\n",
    "|BIC \t|The Bayesian Information Criterion. Similar to the AIC, but has a higher penalty for models with more parameters.|"
   ]
  },
  {
   "cell_type": "markdown",
   "metadata": {},
   "source": [
    "### The second table reports for each of the **coefficients**\n",
    "\n",
    "|Element|Description|\n",
    "|:-|:----|\n",
    "|coef| \tThe estimated value of the coefficient|\n",
    "|std err| \tThe basic standard error of the estimate of the coefficient. More sophisticated errors are also available.|\n",
    "|t| \tThe t-statistic value. This is a measure of how statistically significant the coefficient is.|\n",
    "|P > \\|t\\|| \tP-value that the null-hypothesis that the coefficient = 0 is true. If it is less than the confidence level, often 0.05, it indicates that there is a statistically significant relationship between the term and the response.|\n",
    "|\\[95.0% Conf. Interval\\]|The lower and upper values of the 95% confidence interval|\n",
    "\n",
    " "
   ]
  },
  {
   "cell_type": "markdown",
   "metadata": {},
   "source": [
    "### Finally, there are several statistical tests to assess the **distribution of the residuals**\n",
    "\n",
    "|Element| \tDescription|\n",
    "|:-|:----|\n",
    "|Skewness |\tA measure of the symmetry of the data about the mean. Normally-distributed errors should be symmetrically distributed about the mean (equal amounts above and below the line).|\n",
    "|Kurtosis \t|A measure of the shape of the distribution. Compares the amount of data close to the mean with those far away from the mean (in the tails).|\n",
    "|Omnibus \t|D'Angostino's test. It provides a combined statistical test for the presence of skewness and kurtosis.|\n",
    "|Prob(Omnibus)| \tThe above statistic turned into a probability|\n",
    "|Jarque-Bera |\tA different test of the skewness and kurtosis|\n",
    "|Prob (JB) |\tThe above statistic turned into a probability|\n",
    "|Durbin-Watson| \tA test for the presence of autocorrelation (that the errors are not independent.) Often important in time-series analysis|\n",
    "|Cond. No| \tA test for multicollinearity (if in a fit with multiple parameters, the parameters are related with each other).|"
   ]
  },
  {
   "cell_type": "markdown",
   "metadata": {},
   "source": [
    "## OLS non-linear curve but linear in parameters"
   ]
  },
  {
   "cell_type": "code",
   "execution_count": 35,
   "metadata": {},
   "outputs": [],
   "source": [
    "nsample = 50\n",
    "sig = 0.5\n",
    "x = np.linspace(0, 20, nsample)\n",
    "X = np.column_stack((x, np.sin(x), (x-5)**2, np.ones(nsample)))\n",
    "beta = [0.5, 0.5, -0.02, 5.]\n",
    "\n",
    "y_true = np.dot(X, beta)\n",
    "y = y_true + sig * np.random.normal(size=nsample) #generate artificial data"
   ]
  },
  {
   "cell_type": "code",
   "execution_count": 36,
   "metadata": {},
   "outputs": [
    {
     "name": "stdout",
     "output_type": "stream",
     "text": [
      "                            OLS Regression Results                            \n",
      "==============================================================================\n",
      "Dep. Variable:                      y   R-squared:                       0.939\n",
      "Model:                            OLS   Adj. R-squared:                  0.935\n",
      "Method:                 Least Squares   F-statistic:                     237.8\n",
      "Date:                Fri, 22 Mar 2019   Prob (F-statistic):           5.25e-28\n",
      "Time:                        11:07:44   Log-Likelihood:                -30.518\n",
      "No. Observations:                  50   AIC:                             69.04\n",
      "Df Residuals:                      46   BIC:                             76.68\n",
      "Df Model:                           3                                         \n",
      "Covariance Type:            nonrobust                                         \n",
      "==============================================================================\n",
      "                 coef    std err          t      P>|t|      [0.025      0.975]\n",
      "------------------------------------------------------------------------------\n",
      "x1             0.4639      0.024     18.999      0.000       0.415       0.513\n",
      "x2             0.6242      0.096      6.504      0.000       0.431       0.817\n",
      "x3            -0.0177      0.002     -8.259      0.000      -0.022      -0.013\n",
      "const          5.2217      0.158     32.985      0.000       4.903       5.540\n",
      "==============================================================================\n",
      "Omnibus:                        0.204   Durbin-Watson:                   1.622\n",
      "Prob(Omnibus):                  0.903   Jarque-Bera (JB):                0.351\n",
      "Skew:                          -0.130   Prob(JB):                        0.839\n",
      "Kurtosis:                       2.682   Cond. No.                         221.\n",
      "==============================================================================\n",
      "\n",
      "Warnings:\n",
      "[1] Standard Errors assume that the covariance matrix of the errors is correctly specified.\n"
     ]
    }
   ],
   "source": [
    "res = sm.OLS(y, X).fit()\n",
    "print(res.summary())"
   ]
  },
  {
   "cell_type": "code",
   "execution_count": 37,
   "metadata": {},
   "outputs": [
    {
     "data": {
      "image/png": "[encoded data removed]",
      "text/plain": [
       "<Figure size 576x432 with 1 Axes>"
      ]
     },
     "metadata": {
      "needs_background": "light"
     },
     "output_type": "display_data"
    }
   ],
   "source": [
    "# Draw a plot to compare the true relationship to OLS predictions. \n",
    "# Confidence intervals around the predictions are built using the wls_prediction_std command.\n",
    "prstd, iv_l, iv_u = wls_prediction_std(res)\n",
    "\n",
    "fig, ax = plt.subplots(figsize=(8,6))\n",
    "ax.plot(x, y, 'o', label=\"data\")\n",
    "ax.plot(x, y_true, 'b-', label=\"True\")\n",
    "ax.plot(x, res.fittedvalues, 'r--.', label=\"OLS\")\n",
    "ax.plot(x, iv_u, 'r--')\n",
    "ax.plot(x, iv_l, 'r--')\n",
    "ax.legend(loc='best');"
   ]
  },
  {
   "cell_type": "markdown",
   "metadata": {},
   "source": [
    "## OLS with dummy variables\n",
    "We generate some artificial data. There are 3 groups which will be modelled using dummy variables. Group 0 is the omitted/benchmark category."
   ]
  },
  {
   "cell_type": "code",
   "execution_count": 38,
   "metadata": {},
   "outputs": [],
   "source": [
    "nsample = 50\n",
    "groups = np.zeros(nsample, int)\n",
    "groups[20:40] = 1\n",
    "groups[40:] = 2\n",
    "#dummy = (groups[:,None] == np.unique(groups)).astype(float)\n",
    "\n",
    "dummy = sm.categorical(groups, drop=True)\n",
    "x = np.linspace(0, 20, nsample)\n",
    "# drop reference category\n",
    "X = np.column_stack((x, dummy[:,1:]))\n",
    "X = sm.add_constant(X, prepend=False)\n",
    "\n",
    "beta = [1., 3, -3, 10]\n",
    "y_true = np.dot(X, beta)\n",
    "e = np.random.normal(size=nsample)\n",
    "y = y_true + e\n"
   ]
  },
  {
   "cell_type": "code",
   "execution_count": 39,
   "metadata": {},
   "outputs": [
    {
     "name": "stdout",
     "output_type": "stream",
     "text": [
      "[[ 0.          0.          0.          1.        ]\n",
      " [ 0.40816327  0.          0.          1.        ]\n",
      " [ 0.81632653  0.          0.          1.        ]\n",
      " [ 1.2244898   0.          0.          1.        ]\n",
      " [ 1.63265306  0.          0.          1.        ]\n",
      " [ 2.04081633  0.          0.          1.        ]\n",
      " [ 2.44897959  0.          0.          1.        ]\n",
      " [ 2.85714286  0.          0.          1.        ]\n",
      " [ 3.26530612  0.          0.          1.        ]\n",
      " [ 3.67346939  0.          0.          1.        ]\n",
      " [ 4.08163265  0.          0.          1.        ]\n",
      " [ 4.48979592  0.          0.          1.        ]\n",
      " [ 4.89795918  0.          0.          1.        ]\n",
      " [ 5.30612245  0.          0.          1.        ]\n",
      " [ 5.71428571  0.          0.          1.        ]\n",
      " [ 6.12244898  0.          0.          1.        ]\n",
      " [ 6.53061224  0.          0.          1.        ]\n",
      " [ 6.93877551  0.          0.          1.        ]\n",
      " [ 7.34693878  0.          0.          1.        ]\n",
      " [ 7.75510204  0.          0.          1.        ]\n",
      " [ 8.16326531  1.          0.          1.        ]\n",
      " [ 8.57142857  1.          0.          1.        ]\n",
      " [ 8.97959184  1.          0.          1.        ]\n",
      " [ 9.3877551   1.          0.          1.        ]\n",
      " [ 9.79591837  1.          0.          1.        ]\n",
      " [10.20408163  1.          0.          1.        ]\n",
      " [10.6122449   1.          0.          1.        ]\n",
      " [11.02040816  1.          0.          1.        ]\n",
      " [11.42857143  1.          0.          1.        ]\n",
      " [11.83673469  1.          0.          1.        ]\n",
      " [12.24489796  1.          0.          1.        ]\n",
      " [12.65306122  1.          0.          1.        ]\n",
      " [13.06122449  1.          0.          1.        ]\n",
      " [13.46938776  1.          0.          1.        ]\n",
      " [13.87755102  1.          0.          1.        ]\n",
      " [14.28571429  1.          0.          1.        ]\n",
      " [14.69387755  1.          0.          1.        ]\n",
      " [15.10204082  1.          0.          1.        ]\n",
      " [15.51020408  1.          0.          1.        ]\n",
      " [15.91836735  1.          0.          1.        ]\n",
      " [16.32653061  0.          1.          1.        ]\n",
      " [16.73469388  0.          1.          1.        ]\n",
      " [17.14285714  0.          1.          1.        ]\n",
      " [17.55102041  0.          1.          1.        ]\n",
      " [17.95918367  0.          1.          1.        ]\n",
      " [18.36734694  0.          1.          1.        ]\n",
      " [18.7755102   0.          1.          1.        ]\n",
      " [19.18367347  0.          1.          1.        ]\n",
      " [19.59183673  0.          1.          1.        ]\n",
      " [20.          0.          1.          1.        ]]\n",
      "[ 9.54750452 10.56182206 11.45200884 12.88648412 12.86921505]\n",
      "[0 0 0 0 0 0 0 0 0 0 0 0 0 0 0 0 0 0 0 0 1 1 1 1 1 1 1 1 1 1 1 1 1 1 1 1 1\n",
      " 1 1 1 2 2 2 2 2 2 2 2 2 2]\n",
      "[[1. 0. 0.]\n",
      " [1. 0. 0.]\n",
      " [1. 0. 0.]\n",
      " [1. 0. 0.]\n",
      " [1. 0. 0.]]\n"
     ]
    }
   ],
   "source": [
    "# Inspect the data:\n",
    "print(X[:,:])\n",
    "print(y[:5])\n",
    "print(groups)\n",
    "print(dummy[:5,:])"
   ]
  },
  {
   "cell_type": "code",
   "execution_count": 40,
   "metadata": {},
   "outputs": [
    {
     "name": "stdout",
     "output_type": "stream",
     "text": [
      "                            OLS Regression Results                            \n",
      "==============================================================================\n",
      "Dep. Variable:                      y   R-squared:                       0.971\n",
      "Model:                            OLS   Adj. R-squared:                  0.969\n",
      "Method:                 Least Squares   F-statistic:                     510.8\n",
      "Date:                Fri, 22 Mar 2019   Prob (F-statistic):           2.62e-35\n",
      "Time:                        11:07:45   Log-Likelihood:                -71.904\n",
      "No. Observations:                  50   AIC:                             151.8\n",
      "Df Residuals:                      46   BIC:                             159.5\n",
      "Df Model:                           3                                         \n",
      "Covariance Type:            nonrobust                                         \n",
      "==============================================================================\n",
      "                 coef    std err          t      P>|t|      [0.025      0.975]\n",
      "------------------------------------------------------------------------------\n",
      "x1             0.9185      0.069     13.259      0.000       0.779       1.058\n",
      "x2             3.7603      0.658      5.716      0.000       2.436       5.084\n",
      "x3            -1.7408      1.072     -1.624      0.111      -3.898       0.417\n",
      "const         10.1541      0.359     28.312      0.000       9.432      10.876\n",
      "==============================================================================\n",
      "Omnibus:                        1.804   Durbin-Watson:                   2.473\n",
      "Prob(Omnibus):                  0.406   Jarque-Bera (JB):                1.019\n",
      "Skew:                           0.299   Prob(JB):                        0.601\n",
      "Kurtosis:                       3.362   Cond. No.                         96.3\n",
      "==============================================================================\n",
      "\n",
      "Warnings:\n",
      "[1] Standard Errors assume that the covariance matrix of the errors is correctly specified.\n"
     ]
    }
   ],
   "source": [
    "# fit model\n",
    "res2 = sm.OLS(y, X).fit()\n",
    "print(res2.summary())"
   ]
  },
  {
   "cell_type": "code",
   "execution_count": 41,
   "metadata": {},
   "outputs": [
    {
     "data": {
      "image/png": "[encoded data removed]",
      "text/plain": [
       "<Figure size 576x432 with 1 Axes>"
      ]
     },
     "metadata": {
      "needs_background": "light"
     },
     "output_type": "display_data"
    }
   ],
   "source": [
    "prstd, iv_l, iv_u = wls_prediction_std(res2)\n",
    "\n",
    "fig, ax = plt.subplots(figsize=(8,6))\n",
    "\n",
    "ax.plot(x, y, 'o', label=\"Data\")\n",
    "ax.plot(x, y_true, 'b-', label=\"True\")\n",
    "ax.plot(x, res2.fittedvalues, 'r--.', label=\"Predicted\")\n",
    "ax.plot(x, iv_u, 'r--')\n",
    "ax.plot(x, iv_l, 'r--')\n",
    "legend = ax.legend(loc=\"best\")"
   ]
  },
  {
   "cell_type": "markdown",
   "metadata": {},
   "source": [
    "## Regression diagnostics\n",
    "### Estimate a regression model"
   ]
  },
  {
   "cell_type": "code",
   "execution_count": 42,
   "metadata": {},
   "outputs": [
    {
     "name": "stdout",
     "output_type": "stream",
     "text": [
      "  neighborhood     crim    zn  indus  chas    nox  rooms   age     dis  rad  \\\n",
      "0       Nahant  0.00632  18.0   2.31     0  0.538  6.575  65.2  4.0900    1   \n",
      "1   Swampscott  0.02731   0.0   7.07     0  0.469  6.421  78.9  4.9671    2   \n",
      "2   Swanpscott  0.02729   0.0   7.07     0  0.469  7.185  61.1  4.9671    2   \n",
      "3   Marblehead  0.03237   0.0   2.18     0  0.458  6.998  45.8  6.0622    3   \n",
      "4   Marblehead  0.06905   0.0   2.18     0  0.458  7.147  54.2  6.0622    3   \n",
      "\n",
      "   tax  ptratio  lstat    mv  \n",
      "0  296     15.3   4.98  24.0  \n",
      "1  242     17.8   9.14  21.6  \n",
      "2  242     17.8   4.03  34.7  \n",
      "3  222     18.7   2.94  33.4  \n",
      "4  222     18.7   5.33  36.2  \n",
      "                            OLS Regression Results                            \n",
      "==============================================================================\n",
      "Dep. Variable:                     mv   R-squared:                       0.565\n",
      "Model:                            OLS   Adj. R-squared:                  0.562\n",
      "Method:                 Least Squares   F-statistic:                     217.2\n",
      "Date:                Fri, 22 Mar 2019   Prob (F-statistic):           2.63e-90\n",
      "Time:                        11:07:46   Log-Likelihood:                -1628.9\n",
      "No. Observations:                 506   AIC:                             3266.\n",
      "Df Residuals:                     502   BIC:                             3283.\n",
      "Df Model:                           3                                         \n",
      "Covariance Type:            nonrobust                                         \n",
      "==============================================================================\n",
      "                 coef    std err          t      P>|t|      [0.025      0.975]\n",
      "------------------------------------------------------------------------------\n",
      "Intercept     -4.1381      4.210     -0.983      0.326     -12.410       4.134\n",
      "ptratio       -1.2037      0.136     -8.872      0.000      -1.470      -0.937\n",
      "rooms          7.6100      0.415     18.318      0.000       6.794       8.426\n",
      "dis            0.2783      0.133      2.089      0.037       0.017       0.540\n",
      "==============================================================================\n",
      "Omnibus:                      207.056   Durbin-Watson:                   0.741\n",
      "Prob(Omnibus):                  0.000   Jarque-Bera (JB):             1696.428\n",
      "Skew:                           1.567   Prob(JB):                         0.00\n",
      "Kurtosis:                      11.405   Cond. No.                         313.\n",
      "==============================================================================\n",
      "\n",
      "Warnings:\n",
      "[1] Standard Errors assume that the covariance matrix of the errors is correctly specified.\n"
     ]
    }
   ],
   "source": [
    "%matplotlib inline\n",
    "from statsmodels.compat import lzip\n",
    "import statsmodels\n",
    "import numpy as np\n",
    "import pandas as pd\n",
    "import statsmodels.formula.api as smf\n",
    "import statsmodels.stats.api as sms\n",
    "import matplotlib.pyplot as plt\n",
    "\n",
    "# Load data\n",
    "#url = 'http://vincentarelbundock.github.io/Rdatasets/csv/HistData/Guerry.csv'\n",
    "#dat = pd.read_csv(url)\n",
    "dat = pd.read_csv(\"boston.csv\")\n",
    "# Fit regression model (using the natural log of one of the regressors)\n",
    "results = smf.ols('mv ~ ptratio + rooms + dis', data=dat).fit()\n",
    "\n",
    "# Inspect the results\n",
    "print(dat.head())\n",
    "print(results.summary())"
   ]
  },
  {
   "cell_type": "markdown",
   "metadata": {},
   "source": [
    "### Normality of the residuals"
   ]
  },
  {
   "cell_type": "code",
   "execution_count": 43,
   "metadata": {},
   "outputs": [
    {
     "data": {
      "text/plain": [
       "[('Jarque-Bera', 1696.4278708197417),\n",
       " ('Chi^2 two-tail prob.', 0.0),\n",
       " ('Skew', 1.5665205918344103),\n",
       " ('Kurtosis', 11.405179055594276)]"
      ]
     },
     "execution_count": 43,
     "metadata": {},
     "output_type": "execute_result"
    }
   ],
   "source": [
    "# JB test\n",
    "name = ['Jarque-Bera', 'Chi^2 two-tail prob.', 'Skew', 'Kurtosis']\n",
    "test = sms.jarque_bera(results.resid)\n",
    "lzip(name, test)\n"
   ]
  },
  {
   "cell_type": "code",
   "execution_count": 44,
   "metadata": {},
   "outputs": [
    {
     "data": {
      "text/plain": [
       "[('Chi^2', 207.05576342085843),\n",
       " ('Two-tail probability', 1.092476867994284e-45)]"
      ]
     },
     "execution_count": 44,
     "metadata": {},
     "output_type": "execute_result"
    }
   ],
   "source": [
    "# omni test\n",
    "name = ['Chi^2', 'Two-tail probability']\n",
    "test = sms.omni_normtest(results.resid)\n",
    "lzip(name, test)"
   ]
  },
  {
   "cell_type": "markdown",
   "metadata": {},
   "source": [
    "## Heteroskedasticity tests\n",
    "### Breush-Pagan test:"
   ]
  },
  {
   "cell_type": "code",
   "execution_count": 45,
   "metadata": {},
   "outputs": [
    {
     "data": {
      "text/plain": [
       "[('Lagrange multiplier statistic', 23.086783418826176),\n",
       " ('p-value', 3.873545560187393e-05),\n",
       " ('f-value', 7.9997570842369905),\n",
       " ('f p-value', 3.2279527981558966e-05)]"
      ]
     },
     "execution_count": 45,
     "metadata": {},
     "output_type": "execute_result"
    }
   ],
   "source": [
    "name = ['Lagrange multiplier statistic', 'p-value', \n",
    "        'f-value', 'f p-value']\n",
    "test = sms.het_breuschpagan(results.resid,results.model.exog)\n",
    "lzip(name, test)"
   ]
  },
  {
   "cell_type": "markdown",
   "metadata": {},
   "source": [
    "### Goldfeld-Quandt test"
   ]
  },
  {
   "cell_type": "code",
   "execution_count": 46,
   "metadata": {},
   "outputs": [
    {
     "data": {
      "text/plain": [
       "[('F statistic', 3.7973651706661045), ('p-value', 1.4644105101180242e-24)]"
      ]
     },
     "execution_count": 46,
     "metadata": {},
     "output_type": "execute_result"
    }
   ],
   "source": [
    "name = ['F statistic', 'p-value']\n",
    "test = sms.het_goldfeldquandt(results.resid, results.model.exog)\n",
    "lzip(name, test)"
   ]
  },
  {
   "cell_type": "code",
   "execution_count": 47,
   "metadata": {},
   "outputs": [
    {
     "name": "stdout",
     "output_type": "stream",
     "text": [
      "Help on HetGoldfeldQuandt in module statsmodels.sandbox.stats.diagnostic object:\n",
      "\n",
      "class HetGoldfeldQuandt(builtins.object)\n",
      " |  test whether variance is the same in 2 subsamples\n",
      " |  \n",
      " |  Parameters\n",
      " |  ----------\n",
      " |  y : array_like\n",
      " |      endogenous variable\n",
      " |  x : array_like\n",
      " |      exogenous variable, regressors\n",
      " |  idx : integer\n",
      " |      column index of variable according to which observations are\n",
      " |      sorted for the split\n",
      " |  split : None or integer or float in intervall (0,1)\n",
      " |      index at which sample is split.\n",
      " |      If 0<split<1 then split is interpreted as fraction of the observations\n",
      " |      in the first sample\n",
      " |  drop : None, float or int\n",
      " |      If this is not None, then observation are dropped from the middle part\n",
      " |      of the sorted series. If 0<split<1 then split is interpreted as fraction\n",
      " |      of the number of observations to be dropped.\n",
      " |      Note: Currently, observations are dropped between split and\n",
      " |      split+drop, where split and drop are the indices (given by rounding if\n",
      " |      specified as fraction). The first sample is [0:split], the second\n",
      " |      sample is [split+drop:]\n",
      " |  alternative : string, 'increasing', 'decreasing' or 'two-sided'\n",
      " |      default is increasing. This specifies the alternative for the p-value\n",
      " |      calculation.\n",
      " |  \n",
      " |  Returns\n",
      " |  -------\n",
      " |  (fval, pval) or res\n",
      " |  fval : float\n",
      " |      value of the F-statistic\n",
      " |  pval : float\n",
      " |      p-value of the hypothesis that the variance in one subsample is larger\n",
      " |      than in the other subsample\n",
      " |  res : instance of result class\n",
      " |      The class instance is just a storage for the intermediate and final\n",
      " |      results that are calculated\n",
      " |  \n",
      " |  Notes\n",
      " |  -----\n",
      " |  The Null hypothesis is that the variance in the two sub-samples are the\n",
      " |  same. The alternative hypothesis, can be increasing, i.e. the variance in\n",
      " |  the second sample is larger than in the first, or decreasing or two-sided.\n",
      " |  \n",
      " |  Results are identical R, but the drop option is defined differently.\n",
      " |  (sorting by idx not tested yet)\n",
      " |  \n",
      " |  Methods defined here:\n",
      " |  \n",
      " |  __call__(self, y, x, idx=None, split=None, drop=None, alternative='increasing')\n",
      " |      Call self as a function.\n",
      " |  \n",
      " |  __str__(self)\n",
      " |      Return str(self).\n",
      " |  \n",
      " |  run(self, y, x, idx=None, split=None, drop=None, alternative='increasing', attach=True)\n",
      " |      see class docstring\n",
      " |  \n",
      " |  ----------------------------------------------------------------------\n",
      " |  Data descriptors defined here:\n",
      " |  \n",
      " |  __dict__\n",
      " |      dictionary for instance variables (if defined)\n",
      " |  \n",
      " |  __weakref__\n",
      " |      list of weak references to the object (if defined)\n",
      "\n"
     ]
    }
   ],
   "source": [
    "help(sms.het_goldfeldquandt)"
   ]
  },
  {
   "cell_type": "code",
   "execution_count": null,
   "metadata": {},
   "outputs": [],
   "source": []
  }
 ],
 "metadata": {
  "kernelspec": {
   "display_name": "Python 3",
   "language": "python",
   "name": "python3"
  },
  "language_info": {
   "codemirror_mode": {
    "name": "ipython",
    "version": 3
   },
   "file_extension": ".py",
   "mimetype": "text/x-python",
   "name": "python",
   "nbconvert_exporter": "python",
   "pygments_lexer": "ipython3",
   "version": "3.7.1"
  }
 },
 "nbformat": 4,
 "nbformat_minor": 2
}
