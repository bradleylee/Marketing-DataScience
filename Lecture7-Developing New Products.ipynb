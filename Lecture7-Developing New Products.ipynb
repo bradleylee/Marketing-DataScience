{
 "cells": [
  {
   "cell_type": "markdown",
   "metadata": {},
   "source": [
    "# Developing New Products\n"
   ]
  },
  {
   "cell_type": "code",
   "execution_count": 2,
   "metadata": {},
   "outputs": [
    {
     "name": "stdout",
     "output_type": "stream",
     "text": [
      "  choice muser wtemp wtype  response\n",
      "0      X    NO   LOW  HARD         1\n",
      "1      X    NO   LOW  HARD         1\n",
      "2      X    NO   LOW  HARD         1\n",
      "3      X    NO   LOW  HARD         1\n",
      "4      X    NO   LOW  HARD         1\n",
      "     choice muser wtemp wtype  response\n",
      "1003      M   YES  HIGH  SOFT         0\n",
      "1004      M   YES  HIGH  SOFT         0\n",
      "1005      M   YES  HIGH  SOFT         0\n",
      "1006      M   YES  HIGH  SOFT         0\n",
      "1007      M   YES  HIGH  SOFT         0\n"
     ]
    }
   ],
   "source": [
    "# Analysis for a Field Test of Laundry Soaps (Python)\n",
    "\n",
    "# prepare for Python version 3x features and functions\n",
    "# from __future__ import division, print_function\n",
    "# from future_builtins import ascii, filter, hex, map, oct, zip\n",
    "\n",
    "# import packages into the namespace for this program\n",
    "import numpy as np\n",
    "import pandas as pd\n",
    "import statsmodels.api as sm\n",
    "\n",
    "# first import data from the comma-delimited file soaps.csv\n",
    "# of individual observations (households) in the field test\n",
    "# the response variable relates to brand choice\n",
    "# choice is factor/binary response variable (M or X)\n",
    "# coded as a 0/1 binary variable named response\n",
    "# the explanatory variables are factors (categorical variables):\n",
    "#   wtemp = water temperature with levels LOW OR HIGH\n",
    "#   wtype = water type with levels SOFT, MEDIUM, OR HARD\n",
    "#   muser = is user of brand M with labels NO OR YES\n",
    "\n",
    "# read individual household data for field experiment\n",
    "soaps = pd.read_csv(\"soaps.csv\")\n",
    "# check the pandas DataFrame object\n",
    "print(soaps.head())\n",
    "print(soaps.tail())"
   ]
  },
  {
   "cell_type": "code",
   "execution_count": 3,
   "metadata": {},
   "outputs": [
    {
     "name": "stdout",
     "output_type": "stream",
     "text": [
      "                 Generalized Linear Model Regression Results                  \n",
      "==============================================================================\n",
      "Dep. Variable:                      y   No. Observations:                 1008\n",
      "Model:                            GLM   Df Residuals:                      996\n",
      "Model Family:                Binomial   Df Model:                           11\n",
      "Link Function:                  logit   Scale:                          1.0000\n",
      "Method:                          IRLS   Log-Likelihood:                -682.25\n",
      "Date:                Sun, 17 Feb 2019   Deviance:                       1364.5\n",
      "Time:                        14:28:52   Pearson chi2:                 1.01e+03\n",
      "No. Iterations:                     4   Covariance Type:             nonrobust\n",
      "==============================================================================\n",
      "                 coef    std err          z      P>|z|      [0.025      0.975]\n",
      "------------------------------------------------------------------------------\n",
      "const          0.1728      0.186      0.927      0.354      -0.192       0.538\n",
      "x1            -0.0216      0.270     -0.080      0.936      -0.550       0.507\n",
      "x2            -0.1014      0.326     -0.311      0.756      -0.740       0.538\n",
      "x3             0.1048      0.264      0.396      0.692      -0.413       0.623\n",
      "x4             0.3090      0.271      1.142      0.254      -0.221       0.839\n",
      "x5            -0.4727      0.481     -0.983      0.326      -1.415       0.470\n",
      "x6            -0.4132      0.384     -1.077      0.282      -1.165       0.339\n",
      "x7            -0.8006      0.397     -2.017      0.044      -1.578      -0.023\n",
      "x8             0.1848      0.464      0.398      0.690      -0.724       1.094\n",
      "x9            -0.0440      0.449     -0.098      0.922      -0.925       0.837\n",
      "x10           -0.1681      0.667     -0.252      0.801      -1.475       1.139\n",
      "x11            0.3752      0.662      0.567      0.571      -0.922       1.673\n",
      "==============================================================================\n"
     ]
    }
   ],
   "source": [
    "# -------------------------\n",
    "# Define the Design Matrix\n",
    "# -------------------------\n",
    "Intercept = np.array([1] * len(soaps))\n",
    "\n",
    "# use dictionary objects for mapping to 0/1 binary codes\n",
    "muser_to_binary = {'NO' : 0, 'YES' : 1}\n",
    "YESmuser = np.array(soaps['muser'].map(muser_to_binary))\n",
    "\n",
    "wtemp_to_binary = {'LOW' : 0, 'HIGH' : 1}\n",
    "HIGHwtemp = np.array(soaps['wtemp'].map(wtemp_to_binary))\n",
    "\n",
    "medium_wtype_to_binary = {'SOFT' : 0, 'MEDIUM' : 1, 'HARD': 0}\n",
    "MEDIUMwtype = np.array(soaps['wtype'].map(medium_wtype_to_binary))\n",
    "\n",
    "hard_wtype_to_binary = {'SOFT' : 0, 'MEDIUM' : 0, 'HARD': 1}\n",
    "HARDwtype = np.array(soaps['wtype'].map(hard_wtype_to_binary))\n",
    "\n",
    "# define two-way interation terms\n",
    "YESmuser_HIGHwtemp = YESmuser * HIGHwtemp\n",
    "YESmuser_MEDIUMwtype = YESmuser * MEDIUMwtype\n",
    "YESmuser_HARDwtype = YESmuser * HARDwtype\n",
    "HIGHwtemp_MEDIUMwtype = HIGHwtemp * MEDIUMwtype\n",
    "HIGHwtemp_HARDwtype = HIGHwtemp * HARDwtype\n",
    "\n",
    "# define three-way interation terms\n",
    "YESmuser_HIGHwtemp_MEDIUMwtype = YESmuser * HIGHwtemp * MEDIUMwtype\n",
    "YESmuser_HIGHwtemp_HARDwtype = YESmuser * HIGHwtemp * HARDwtype\n",
    "\n",
    "# specify complete experimental design with interactions\n",
    "Design_Matrix = np.array([Intercept,\\\n",
    "    YESmuser,\\\n",
    "    HIGHwtemp,\\\n",
    "    MEDIUMwtype,\\\n",
    "    HARDwtype,\\\n",
    "    YESmuser_HIGHwtemp,\\\n",
    "    YESmuser_MEDIUMwtype,\\\n",
    "    YESmuser_HARDwtype,\\\n",
    "    HIGHwtemp_MEDIUMwtype,\\\n",
    "    HIGHwtemp_HARDwtype,\\\n",
    "    YESmuser_HIGHwtemp_MEDIUMwtype,\\\n",
    "    YESmuser_HIGHwtemp_HARDwtype]).T\n",
    "\n",
    "# define the binary response variable\n",
    "Response = np.array(soaps['response'])\n",
    "# -------------------------\n",
    "# Fit Model to Data\n",
    "# -------------------------    \n",
    "# fit the complete model using a generalized linear model\n",
    "glm_binom = sm.GLM(Response, Design_Matrix,family=sm.families.Binomial())\n",
    "res = glm_binom.fit()\n",
    "print(res.summary())\n",
    "\n"
   ]
  },
  {
   "cell_type": "code",
   "execution_count": null,
   "metadata": {},
   "outputs": [],
   "source": []
  }
 ],
 "metadata": {
  "kernelspec": {
   "display_name": "Python 3",
   "language": "python",
   "name": "python3"
  },
  "language_info": {
   "codemirror_mode": {
    "name": "ipython",
    "version": 3
   },
   "file_extension": ".py",
   "mimetype": "text/x-python",
   "name": "python",
   "nbconvert_exporter": "python",
   "pygments_lexer": "ipython3",
   "version": "3.6.5"
  }
 },
 "nbformat": 4,
 "nbformat_minor": 2
}
