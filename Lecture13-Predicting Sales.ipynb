{
 "cells": [
  {
   "cell_type": "markdown",
   "metadata": {},
   "source": [
    "# Predicting Sales"
   ]
  },
  {
   "cell_type": "code",
   "execution_count": 1,
   "metadata": {},
   "outputs": [
    {
     "name": "stdout",
     "output_type": "stream",
     "text": [
      "    sales  competition  population  income\n",
      "0  107919            3       65044   13240\n",
      "1  118866            5      101376   22554\n",
      "2   98579            7      124989   16916\n",
      "3  122015            2       55249   20967\n",
      "4  152827            3       73775   19576\n"
     ]
    }
   ],
   "source": [
    "# Restaurant Site Selection\n",
    "# prepare for Python version 3x features and functions\n",
    "from __future__ import division, print_function\n",
    "\n",
    "# import packages for analysis and modeling\n",
    "import pandas as pd  # data frame operations\n",
    "import numpy as np  # arrays and math functions\n",
    "import statsmodels.api as sm  # statistical models (including regression)\n",
    "import statsmodels.formula.api as smf  # statistical models (including regression)\n",
    "\n",
    "# read data for Studenmund's Restaurants\n",
    "# creating data frame restdata\n",
    "restdata = pd.read_csv('studenmunds_restaurants.csv')\n",
    "\n",
    "# print the first five rows of the data frame\n",
    "print(pd.DataFrame.head(restdata)) "
   ]
  },
  {
   "cell_type": "code",
   "execution_count": 2,
   "metadata": {},
   "outputs": [
    {
     "name": "stdout",
     "output_type": "stream",
     "text": [
      "                            OLS Regression Results                            \n",
      "==============================================================================\n",
      "Dep. Variable:                  sales   R-squared:                       0.618\n",
      "Model:                            OLS   Adj. R-squared:                  0.579\n",
      "Method:                 Least Squares   F-statistic:                     15.65\n",
      "Date:                Sun, 17 Feb 2019   Prob (F-statistic):           3.06e-06\n",
      "Time:                        14:55:47   Log-Likelihood:                -360.99\n",
      "No. Observations:                  33   AIC:                             730.0\n",
      "Df Residuals:                      29   BIC:                             736.0\n",
      "Df Model:                           3                                         \n",
      "Covariance Type:            nonrobust                                         \n",
      "===============================================================================\n",
      "                  coef    std err          t      P>|t|      [0.025      0.975]\n",
      "-------------------------------------------------------------------------------\n",
      "Intercept    1.022e+05   1.28e+04      7.984      0.000     7.6e+04    1.28e+05\n",
      "competition -9074.6744   2052.674     -4.421      0.000   -1.33e+04   -4876.485\n",
      "population      0.3547      0.073      4.880      0.000       0.206       0.503\n",
      "income          1.2879      0.543      2.371      0.025       0.177       2.399\n",
      "==============================================================================\n",
      "Omnibus:                        5.575   Durbin-Watson:                   1.758\n",
      "Prob(Omnibus):                  0.062   Jarque-Bera (JB):                4.450\n",
      "Skew:                           0.890   Prob(JB):                        0.108\n",
      "Kurtosis:                       3.260   Cond. No.                     6.04e+05\n",
      "==============================================================================\n",
      "\n",
      "Warnings:\n",
      "[1] Standard Errors assume that the covariance matrix of the errors is correctly specified.\n",
      "[2] The condition number is large, 6.04e+05. This might indicate that there are\n",
      "strong multicollinearity or other numerical problems.\n"
     ]
    }
   ],
   "source": [
    "# specify regression model\n",
    "my_model = str('sales ~ competition + population + income')\n",
    "\n",
    "# fit the model to the data\n",
    "my_model_fit = smf.ols(my_model, data = restdata).fit()\n",
    "# summary of model fit to the training set\n",
    "print(my_model_fit.summary())"
   ]
  },
  {
   "cell_type": "code",
   "execution_count": 3,
   "metadata": {},
   "outputs": [
    {
     "name": "stdout",
     "output_type": "stream",
     "text": [
      "\n",
      "Proportion of Test Set Variance Accounted for:  0.618\n"
     ]
    }
   ],
   "source": [
    "# predictions from the model fit to the data for current stores\n",
    "restdata['predict_sales'] = my_model_fit.fittedvalues\n",
    "\n",
    "# compute the proportion of response variance accounted for\n",
    "print('\\nProportion of Test Set Variance Accounted for: ',\\\n",
    "    round(np.power(restdata['sales'].corr(restdata['predict_sales']),2),3))"
   ]
  },
  {
   "cell_type": "code",
   "execution_count": 4,
   "metadata": {},
   "outputs": [
    {
     "name": "stdout",
     "output_type": "stream",
     "text": [
      "\n",
      "New sites with predicted sales    sales  competition  population  income     sales_pred\n",
      "0      0            2       50000   25000  133974.582027\n",
      "1      0            3      200000   22000  174236.392570\n",
      "2      0            5      220000   19000  159316.640948 \n",
      "\n"
     ]
    }
   ],
   "source": [
    "# define DataFrame of sites for new restaurants\n",
    "sites_data = {'sales': [0,0,0],\n",
    "             'competition': [2, 3, 5],\n",
    "             'population': [50000, 200000, 220000],\n",
    "             'income': [25000, 22000, 19000]}\n",
    "\n",
    "sites = pd.DataFrame(sites_data)\n",
    "# obtain predicted sales for the new restaurants\n",
    "# rounding to the nearest dollar\n",
    "sites['sales_pred'] = my_model_fit.predict(sites)\n",
    "print('\\nNew sites with predicted sales', sites, '\\n')"
   ]
  },
  {
   "cell_type": "code",
   "execution_count": null,
   "metadata": {},
   "outputs": [],
   "source": []
  }
 ],
 "metadata": {
  "kernelspec": {
   "display_name": "Python 3",
   "language": "python",
   "name": "python3"
  },
  "language_info": {
   "codemirror_mode": {
    "name": "ipython",
    "version": 3
   },
   "file_extension": ".py",
   "mimetype": "text/x-python",
   "name": "python",
   "nbconvert_exporter": "python",
   "pygments_lexer": "ipython3",
   "version": "3.6.5"
  }
 },
 "nbformat": 4,
 "nbformat_minor": 2
}
