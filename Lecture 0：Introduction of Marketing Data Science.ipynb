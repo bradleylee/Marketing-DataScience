{
 "cells": [
  {
   "attachments": {},
   "cell_type": "markdown",
   "metadata": {},
   "source": [
    "# Lecture 0：Introduction of Marketing Data Science\n",
    "\n",
    "## 0.1 Purpose of this course\n",
    "\n",
    "### 1. Providing topics and literatures\n",
    "### 2. Introducing data science methods \n",
    "### 3. Inspiring research minds\n",
    "### 4. Basic Python Training \n",
    "\n",
    "## 0.2 Topics in Marketing\n",
    "\n",
    "1. **Understanding Markets**   \n",
    "\n",
    "2. **Predicting Consumer Choice** \n",
    "3. **Targeting Current Customers** \n",
    "4. **Finding New Customers**\n",
    "5. **Retaining Customers**\n",
    "6. **Positioning Products**\n",
    "7. **Developing New Products** \n",
    "8. **Promoting Products**\n",
    "9. **Recommending Products** \n",
    "10.\t*Assessing Brands and Prices* \n",
    "11.\t*Utilizing Social Networks* \n",
    "12.\t*Watching Competitors* \n",
    "13.\t**Predicting Sales** \n",
    "\n",
    "## 0.3 Data Science Methods (Appendix A)\n",
    "1. Database Systems and Data Preparation\n",
    "2. Classical and Bayesian Statistics\n",
    "3. Regression and Classification\n",
    "4. Data Mining and Machine Learning\n",
    "5. Data Visualization\n",
    "6. Text and Sentiment Analysis\n",
    "7. Time Series and Market Response Models\n"
   ]
  },
  {
   "cell_type": "markdown",
   "metadata": {},
   "source": [
    "## 0.4 Cases in this course\n",
    "1. **AT&T Choice Study**:  AT&T\twanted\tto\tidentify\tfactors\trelating\tto\tcustomer\tchoice of\tlong-distance\tcarriers.\tThe\tfirm\tcollected\trespondent\tdata\tfrom\ttelephone\tinterviews, household\tservice\tand\tbilling\tinformation\tfrom\tcorporate\tdatabases,\tand\tcensus\tdata\tlinked to\thousehold\taddresses.\n",
    "2. **Sydney Train Choice**\n",
    "3. **Bank\tMarketing\tStudy**:  Data\tfor\tthis\tcase\tcome\tfrom\tthe\tUniversity\tof\tCalifornia–Irvine\tMachine\tLearning\tRepository\tof\tthe\tCenter\tfor\tMachine Learning\tand\tIntelligent\tSystems\tat\t.\tThe original\tdata\twere\tpart\tof\tmarketing\tstudies\tdocumented\tin\tMoro,\tLaureano,\tand\tCortez\t(2011)\tand\tMoro,\tCortez,\tand\tRita (2014).\n",
    "4. **Boston\tHousing\tStudy**: The\tBoston\tHousing\tStudy\tis\ta\tmarket\tresponse\tstudy\tof\tsorts,\twith\tthe\tmarket\tbeing\t506 census\ttracts\tin\tthe\tBoston\tmetropolitan\tarea.\tThe\tobjective\tof\tthe\tstudy\twas\tto\texamine\tthe effect\tof\tair\tpollution\ton\thousing\tprices,\tcontrolling\tfor\tthe\teffects\tof\tother\texplanatory variables.\n",
    "5. **Computer\tChoice\tStudy**: In\t1998\tMicrosoft\tintroduced\ta\tnew\toperating\tsystem.\tComputer\tmanufacturers\twere interested\tin\tmaking\tpredictions\tabout\tthe\tpersonal\tcomputer\tmarketplace.\n",
    "6. **Procter\t&\tGamble\tLaundry\tSoaps**: The\tProcter\t&\tGamble\tCompany\tdeveloped\ta\tnew\tformula\tfor\tone\tof\tits\tlaundry\tsoaps. Before\tintroducing\tthe\tnew\tformula\tto\tthe\tmarketplace,\tthe\tcompany\twanted\tto\tknow\twhether consumers\twould\tprefer\tthe\tnew\tformula,\tcalled\tX,\tto\tthe\toriginal\tformula,\tcalled\tM. \n",
    "7. **Sydney\tTransportation\tStudy**: Residents\tof\tthe\tnorth\tsuburbs\tof\tSydney,\tAustralia\tcan\tcommute\tto\tdowntown\tSydney\tby\tcar or\ttrain.\tTheir\tchoice\tof\ttransportation\twill\tbe\tdue,\tin\tpart,\tto\tthe\ttime\tand\tcost\tof\tcommuting by\tcar\tand\ttrain.\t\n",
    "8. **Wisconsin\tLottery\tSales**\n",
    "$\\dots\\dots$"
   ]
  },
  {
   "cell_type": "markdown",
   "metadata": {},
   "source": [
    "## 0.5 Literature review\n",
    "Doing data science means implementing flexible, scalable, extensible systems for data preparation, analysis, visualization, and\tmodeling.\tWe are empowered by the growth of open source. Whatever the\tmodeling technique or application, there is likely a relevant package, module,\tor library that someone has written or is thinking of writing.\n",
    "\n",
    "+ The role of data science in\tbusiness has been discussed\tby\tmany (Davenport\tand\tHarris\t2007; Laursen\tand\tThorlund\t2010;\tDavenport,\tHarris,\tand\tMorison\t2010;\tFranks\t2012;\tSiegel 2013;\tMaisel\tand\tCokins\t2014;\tProvost\tand\tFawcett\t2014).\t\n",
    "+ In-depth\treviews\tof\tmethods include\tthose\tof\tIzenman\t(2008),\tHastie,\tTibshirani,\tand\tFriedman (2009), and Murphy (2012). \n",
    "+ Doing\tdata science with open-source tools\tis\tdiscussed\tin\tConway\tand\tWhite\t(2012),\tPutler\tand\tKrider\t(2012),\tJames et\tal.\t(2013),\tKuhn\tand\tJohnson\t(2013),\tLantz\t(2013),\tand\tLedoiter\t(2013).\t\n",
    "+ Additional discussion\tof\tdata science,\tmodeling\ttechniques\tin\tpredictive\tanalytics,\tand\topen-source\ttools is\tprovided\tin\tother\tbooks\tin\tthe\tModeling Techniques\tseries\t(Miller\t2015a,\t2015b,\tand 2015c)."
   ]
  },
  {
   "cell_type": "markdown",
   "metadata": {},
   "source": [
    "## 0.6 Data Analysis Procedure\n",
    "\n",
    "As marketing data scientists, we must speak\tthe\t**language of business**—*accounting, finance, marketing, and management*. We need to know about *information technology*, including *data structures*, *algorithms*, and *object-oriented programming*. We must understand *statistical modeling*,\t*machine learning*, *mathematical programming*,\tand\t*simulation\tmethods*. These are the things that we do:\t\n",
    "\n",
    "+ **Information search**.\tWe begin by\tlearning what others have done before, learning from the literature. We draw on the work of academics and practitioners in many fields of study, contributors to predictive analytics and data science.\t\n",
    "+ **Preparing text and data**. Text is unstructured or partially structured data that must be prepared for analysis. We extract features from text.\tWe define measures.\tQuantitative data are often\tmessy or missing. They may require transformation prior to analysis. Data preparation consumes much of a data scientist’s time.\t\n",
    "+ **Looking\tat\tdata**.\tWe do exploratory data analysis, data visualization\tfor\tthe\tpurpose\tof discovery. We look for groups in\tdata. We\tfind outliers. We identify common dimensions, patterns,\tand\ttrends.\t\n",
    "+ **Predicting how\tmuch**.\tWe are often asked to predict how many units or dollars\tof product will be sold, the price of financial securities or real estate.\tRegression techniques are useful for making these predictions.\t\n",
    "+ **Predicting\tyes\tor\tno**. Many business\tproblems are classification\tproblems. We use classification\tmethods\tto\tpredict\twhether\tor\tnot\ta person will buy a\tproduct, default on\ta loan,\tor\taccess a web page.\t\n",
    "+ **Testing\tit\tout**.\tWe examine\tmodels with diagnostic\tgraphics. We see how well a\tmodel developed\ton one data\tset\tworks on other\tdata sets. We employ a training-and-test regimen with data\tpartitioning, cross-validation,\tor\tbootstrap methods.\t\n",
    "+ **Playing\twhat-if**.\tWe\tmanipulate key\tvariables to see what happens to our predictions. We play what-if games\tin simulated marketplaces. We employ sensitivity or\tstress testing\tof mathematical\tprogramming\tmodels.\tWe see\thow\tvalues of input variables\taffect outcomes, payoffs, and predictions. We assess uncertainty about forecasts.\t\n",
    "+ **Explaining\tit\tall**.\tData and models\thelp us\tunderstand the\tworld.\tWe turn\twhat we\thave learned into an explanation that others\tcan\tunderstand.\tWe present project results in a\tclear and concise\tmanner. \n",
    "\n",
    "**Prediction is distinct from explanation**. We\tmay\tnot\tknow why models\twork,but we\tneed to know when they work\tand\twhen to\tshow others\thow\tthey work. We identify the most critical components\tof models and focus\ton the things that make a difference.\n",
    "\n",
    "Data scientists\tare\tmethodological eclectics, drawing from many\tscientific disciplines and translating\tthe\tresults\tof empirical research\tinto words and pictures\tthat management\tcan understand.\tThese presentations\tbenefit\tfrom well-constructed data visualizations.\tIn communicating with management, data scientists need to go beyond\tformulas, numbers, definitions of terms, and the magic of algorithms. Data scientists convert the results of predictive models into simple,\tstraightforward\tlanguage that others can understand. Data scientists\tare\tknowledge workers\tpar\texcellence.\tThey are communicators playing a critical role in today’s data-intensive world.\tData scientists\tturn data into models and models into plans\tfor\taction. \n",
    "\n",
    "The\tapproach we\thave taken in this and\tother books\tin\tthe\tModeling Techniques\tseries\thas been to\temploy\tboth classical and Bayesian methods. And sometimes we dispense with traditional\tstatistics\tentirely and rely on machine learning algorithms. Within the statistical\tliterature,\tSeymour\tGeisser\tintroduced\tan\tapproach best described\tas Bayesian\tpredictive\tinference.\tIn\temphasizing\tthe\tsuccess\tof\tpredictions\tin marketing data science, we are in agreement with\tGeisser. But our approach is purely empirical and in no\tway\tdependent on classical or Bayesian thinking. We\tdo what works, following a simple premise: \n",
    ">**The value of a\tmodel lies in the quality of its predictions.** \n",
    "\n",
    "We learn from statistics that we should\tquantify our uncertainty. \n",
    "+ On the one hand,\twe\thave confidence\tintervals,\tpoint estimates\twith associated standard errors, significance tests, and\tpvalues—that is\tthe\tclassical way.\t\n",
    "+ On the other hand, we\thave posterior probability distributions, probability\tintervals,\tprediction\tintervals,\tBayes\tfactors,\tand\tsubjective (perhaps\tdiffuse) priors—the\tpath of\tBayesian statistics. \n",
    "\n",
    "\n"
   ]
  },
  {
   "cell_type": "markdown",
   "metadata": {},
   "source": [
    "## 0.7 Outline\n",
    "| Week No. | Date| Content | Assigment No.|\n",
    "| :------: | :------: | :------: |:------: |\n",
    "| 1 | 2.25 | Introduction ||\n",
    "| 2 | 3.4 | Python I ||\n",
    "| 3 | 3.11 | Python II |1 Programming|\n",
    "| 4 | 3.18 | Topics 1,2 |2 Writing: abstract|\n",
    "| 5 | 3.25 | Topics 3,4  |3 Writing: literature review|\n",
    "| 6 | 4.1 | Topics 5,6 |4 Writing: methods|\n",
    "| 7 | 4.8 | Topics 7,8 |5 Writing: conclusion|\n",
    "| 8 | 4.15 | Topics 9||\n",
    "| 9 | 4.22 | Topics 13 |6 Writing: a short paper|\n",
    "| 10 | 4.29 | Review ||\n",
    "\n",
    "\n",
    "\n",
    "\n",
    "\n",
    "\n",
    "## 0.8 Scores\n",
    "\n",
    "#### Attendence: 20%\n",
    "#### Assigments: 20%\n",
    "#### Final Test: 60%\n"
   ]
  },
  {
   "cell_type": "code",
   "execution_count": null,
   "metadata": {},
   "outputs": [],
   "source": []
  }
 ],
 "metadata": {
  "kernelspec": {
   "display_name": "Python 3",
   "language": "python",
   "name": "python3"
  },
  "language_info": {
   "codemirror_mode": {
    "name": "ipython",
    "version": 3
   },
   "file_extension": ".py",
   "mimetype": "text/x-python",
   "name": "python",
   "nbconvert_exporter": "python",
   "pygments_lexer": "ipython3",
   "version": "3.6.5"
  }
 },
 "nbformat": 4,
 "nbformat_minor": 2
}
